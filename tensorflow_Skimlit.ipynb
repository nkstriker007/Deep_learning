{
  "nbformat": 4,
  "nbformat_minor": 0,
  "metadata": {
    "colab": {
      "provenance": []
    },
    "kernelspec": {
      "name": "python3",
      "display_name": "Python 3"
    },
    "language_info": {
      "name": "python"
    }
  },
  "cells": [
    {
      "cell_type": "markdown",
      "source": [
        "## Skim lit :many-to-one classification *italicized text*\n",
        "Input_shape=[none,embedding size]\n",
        "\n",
        "output_shape=[5]"
      ],
      "metadata": {
        "id": "EnPO-buVHTW5"
      }
    },
    {
      "cell_type": "code",
      "execution_count": 13,
      "metadata": {
        "id": "WqvCvmBpF4cZ",
        "colab": {
          "base_uri": "https://localhost:8080/"
        },
        "outputId": "3868c7c1-27b9-496b-880b-e53e848c993f"
      },
      "outputs": [
        {
          "output_type": "stream",
          "name": "stdout",
          "text": [
            "fatal: destination path 'pubmed-rct' already exists and is not an empty directory.\n",
            "PubMed_200k_RCT\t\t\t\t       PubMed_20k_RCT_numbers_replaced_with_at_sign\n",
            "PubMed_200k_RCT_numbers_replaced_with_at_sign  README.md\n",
            "PubMed_20k_RCT\n"
          ]
        }
      ],
      "source": [
        "!git clone https://github.com/Franck-Dernoncourt/pubmed-rct.git\n",
        "!ls pubmed-rct\n"
      ]
    },
    {
      "cell_type": "code",
      "source": [
        "!ls pubmed-rct/PubMed_20k_RCT_numbers_replaced_with_at_sign\n"
      ],
      "metadata": {
        "colab": {
          "base_uri": "https://localhost:8080/"
        },
        "id": "yjO45yJ1An8r",
        "outputId": "4505b02e-e5ce-4506-a34a-90612b8733b3"
      },
      "execution_count": 14,
      "outputs": [
        {
          "output_type": "stream",
          "name": "stdout",
          "text": [
            "dev.txt  test.txt  train.txt\n"
          ]
        }
      ]
    },
    {
      "cell_type": "code",
      "source": [
        "data_dir=\"/content/pubmed-rct/PubMed_20k_RCT_numbers_replaced_with_at_sign/\""
      ],
      "metadata": {
        "id": "NRZXR8FiB0Tr"
      },
      "execution_count": 15,
      "outputs": []
    },
    {
      "cell_type": "code",
      "source": [
        "import os\n",
        "filenames=[data_dir+filename for filename in os.listdir(data_dir)]\n",
        "filenames"
      ],
      "metadata": {
        "colab": {
          "base_uri": "https://localhost:8080/"
        },
        "id": "eVI48OLDBoJi",
        "outputId": "2547ac85-a099-4e68-bc03-e27c3e3e8598"
      },
      "execution_count": 16,
      "outputs": [
        {
          "output_type": "execute_result",
          "data": {
            "text/plain": [
              "['/content/pubmed-rct/PubMed_20k_RCT_numbers_replaced_with_at_sign/dev.txt',\n",
              " '/content/pubmed-rct/PubMed_20k_RCT_numbers_replaced_with_at_sign/test.txt',\n",
              " '/content/pubmed-rct/PubMed_20k_RCT_numbers_replaced_with_at_sign/train.txt']"
            ]
          },
          "metadata": {},
          "execution_count": 16
        }
      ]
    },
    {
      "cell_type": "code",
      "source": [
        "#Preprocess data\n",
        "def get_lines(filename):\n",
        "  with open(filename,\"r\") as f:\n",
        "    return f.readlines()\n"
      ],
      "metadata": {
        "id": "REKDOBdqCJUV"
      },
      "execution_count": 17,
      "outputs": []
    },
    {
      "cell_type": "code",
      "source": [
        "train_lines=get_lines(filenames[1])\n",
        "train_lines[:10]"
      ],
      "metadata": {
        "colab": {
          "base_uri": "https://localhost:8080/"
        },
        "id": "czO61YrXCxuR",
        "outputId": "110fcba3-1591-4403-cfd2-7de36e3a5be4"
      },
      "execution_count": 18,
      "outputs": [
        {
          "output_type": "execute_result",
          "data": {
            "text/plain": [
              "['###24845963\\n',\n",
              " 'BACKGROUND\\tThis study analyzed liver function abnormalities in heart failure patients admitted with severe acute decompensated heart failure ( ADHF ) .\\n',\n",
              " 'RESULTS\\tA post hoc analysis was conducted with the use of data from the Evaluation Study of Congestive Heart Failure and Pulmonary Artery Catheterization Effectiveness ( ESCAPE ) .\\n',\n",
              " 'RESULTS\\tLiver function tests ( LFTs ) were measured at @ time points from baseline , at discharge , and up to @ months follow-up .\\n',\n",
              " 'RESULTS\\tSurvival analyses were used to assess the association between admission Model of End-Stage Liver Disease Excluding International Normalized Ratio ( MELD-XI ) scores and patient outcome.There was a high prevalence of abnormal baseline ( admission ) LFTs ( albumin @ % , aspartate transaminase @ % , alanine transaminase @ % , and total bilirubin @ % ) .\\n',\n",
              " \"RESULTS\\tThe percentage of patients with abnormal LFTs decreased significantly from baseline to @-months ' follow-up .\\n\",\n",
              " 'RESULTS\\tWhen mean hemodynamic profiles were compared in patients with abnormal versus normal LFTs , elevated total bilirubin was associated with a significantly lower cardiac index ( @ vs @ ; P < @ ) and higher central venous pressure ( @ vs @ ; P = @ ) .\\n',\n",
              " 'RESULTS\\tMultivariable analyses revealed that patients with elevated MELD-XI scores ( @ ) had a @-fold ( hazard ratio@ @ , @ % confidence interval @-@ @ ) increased risk of death , rehospitalization , or transplantation after adjusting for baseline LFTs , age , sex , race , body mass index , diabetes , and systolic blood pressure .\\n',\n",
              " 'CONCLUSIONS\\tAbnormal LFTs are common in the ADHF population and are a dynamic marker of an impaired hemodynamic state .\\n',\n",
              " 'CONCLUSIONS\\tElevated MELD-XI scores are associated with poor outcomes among patients admitted with ADHF .\\n']"
            ]
          },
          "metadata": {},
          "execution_count": 18
        }
      ]
    },
    {
      "cell_type": "code",
      "source": [
        "def preprocess_text_lines(filename):\n",
        "  abstract_samples=[]\n",
        "  abstract_lines=\"\"\n",
        "  input_lines=get_lines(filename)\n",
        "  for line in input_lines:\n",
        "    if line.startswith(\"###\"):\n",
        "      abstract_id=line\n",
        "      abstract_lines=\"\"\n",
        "    elif line.isspace():\n",
        "      abstract_line_split=abstract_lines.splitlines()\n",
        "      for abstract_line_no,abstract_line in enumerate(abstract_line_split):\n",
        "        line_data={}\n",
        "        split_sentence=abstract_line.split(\"\\t\")\n",
        "        label=split_sentence[0]\n",
        "        sentence=split_sentence[1:]\n",
        "        line_data[\"target\"]=label\n",
        "        line_data[\"text\"]=str(sentence).lower()\n",
        "        line_data[\"line_number\"]=abstract_line_no\n",
        "        line_data[\"total_lines\"]=len(abstract_line_split)\n",
        "        abstract_samples.append(line_data)\n",
        "    else:\n",
        "      abstract_lines+=line\n",
        "\n",
        "  return abstract_samples"
      ],
      "metadata": {
        "id": "SG7M6SuLNW1g"
      },
      "execution_count": 19,
      "outputs": []
    },
    {
      "cell_type": "code",
      "source": [
        "train_samples=preprocess_text_lines(data_dir+\"train.txt\")\n",
        "val_samples=preprocess_text_lines(data_dir+\"dev.txt\")\n",
        "test_samples=preprocess_text_lines(data_dir+\"test.txt\")"
      ],
      "metadata": {
        "id": "JxOPRmVcQzC0"
      },
      "execution_count": 20,
      "outputs": []
    },
    {
      "cell_type": "code",
      "source": [
        "train_samples[:2]"
      ],
      "metadata": {
        "colab": {
          "base_uri": "https://localhost:8080/"
        },
        "id": "Hnx81FYTRF_V",
        "outputId": "be2eee7a-1f70-45f0-95a5-32b27fadead6"
      },
      "execution_count": 21,
      "outputs": [
        {
          "output_type": "execute_result",
          "data": {
            "text/plain": [
              "[{'target': 'OBJECTIVE',\n",
              "  'text': \"['to investigate the efficacy of @ weeks of daily low-dose oral prednisolone in improving pain , mobility , and systemic low-grade inflammation in the short term and whether the effect would be sustained at @ weeks in older adults with moderate to severe knee osteoarthritis ( oa ) .']\",\n",
              "  'line_number': 0,\n",
              "  'total_lines': 12},\n",
              " {'target': 'METHODS',\n",
              "  'text': \"['a total of @ patients with primary knee oa were randomized @:@ ; @ received @ mg/day of prednisolone and @ received placebo for @ weeks .']\",\n",
              "  'line_number': 1,\n",
              "  'total_lines': 12}]"
            ]
          },
          "metadata": {},
          "execution_count": 21
        }
      ]
    },
    {
      "cell_type": "code",
      "source": [
        "import pandas as pd\n",
        "train_df=pd.DataFrame(train_samples)\n",
        "val_df=pd.DataFrame(val_samples)\n",
        "test_df=pd.DataFrame(test_samples)"
      ],
      "metadata": {
        "id": "k5vHP3rzuTGf"
      },
      "execution_count": 22,
      "outputs": []
    },
    {
      "cell_type": "code",
      "source": [
        "train_df"
      ],
      "metadata": {
        "colab": {
          "base_uri": "https://localhost:8080/",
          "height": 423
        },
        "id": "dtzWBAW2ufFQ",
        "outputId": "3850e25b-7d0e-4d9b-f73a-72d1884f626d"
      },
      "execution_count": 23,
      "outputs": [
        {
          "output_type": "execute_result",
          "data": {
            "text/plain": [
              "             target                                               text  \\\n",
              "0         OBJECTIVE  ['to investigate the efficacy of @ weeks of da...   \n",
              "1           METHODS  ['a total of @ patients with primary knee oa w...   \n",
              "2           METHODS  ['outcome measures included pain reduction and...   \n",
              "3           METHODS  ['pain was assessed using the visual analog pa...   \n",
              "4           METHODS  ['secondary outcome measures included the west...   \n",
              "...             ...                                                ...   \n",
              "180035      RESULTS  ['for the absolute change in percent atheroma ...   \n",
              "180036      RESULTS  ['for pav , a significantly greater percentage...   \n",
              "180037      RESULTS  ['both strategies had acceptable side effect p...   \n",
              "180038  CONCLUSIONS  ['compared with standard statin monotherapy , ...   \n",
              "180039  CONCLUSIONS  ['( plaque regression with cholesterol absorpt...   \n",
              "\n",
              "        line_number  total_lines  \n",
              "0                 0           12  \n",
              "1                 1           12  \n",
              "2                 2           12  \n",
              "3                 3           12  \n",
              "4                 4           12  \n",
              "...             ...          ...  \n",
              "180035            7           12  \n",
              "180036            8           12  \n",
              "180037            9           12  \n",
              "180038           10           12  \n",
              "180039           11           12  \n",
              "\n",
              "[180040 rows x 4 columns]"
            ],
            "text/html": [
              "\n",
              "  <div id=\"df-edd1240a-11ae-46ff-a45f-343aa1650ba1\" class=\"colab-df-container\">\n",
              "    <div>\n",
              "<style scoped>\n",
              "    .dataframe tbody tr th:only-of-type {\n",
              "        vertical-align: middle;\n",
              "    }\n",
              "\n",
              "    .dataframe tbody tr th {\n",
              "        vertical-align: top;\n",
              "    }\n",
              "\n",
              "    .dataframe thead th {\n",
              "        text-align: right;\n",
              "    }\n",
              "</style>\n",
              "<table border=\"1\" class=\"dataframe\">\n",
              "  <thead>\n",
              "    <tr style=\"text-align: right;\">\n",
              "      <th></th>\n",
              "      <th>target</th>\n",
              "      <th>text</th>\n",
              "      <th>line_number</th>\n",
              "      <th>total_lines</th>\n",
              "    </tr>\n",
              "  </thead>\n",
              "  <tbody>\n",
              "    <tr>\n",
              "      <th>0</th>\n",
              "      <td>OBJECTIVE</td>\n",
              "      <td>['to investigate the efficacy of @ weeks of da...</td>\n",
              "      <td>0</td>\n",
              "      <td>12</td>\n",
              "    </tr>\n",
              "    <tr>\n",
              "      <th>1</th>\n",
              "      <td>METHODS</td>\n",
              "      <td>['a total of @ patients with primary knee oa w...</td>\n",
              "      <td>1</td>\n",
              "      <td>12</td>\n",
              "    </tr>\n",
              "    <tr>\n",
              "      <th>2</th>\n",
              "      <td>METHODS</td>\n",
              "      <td>['outcome measures included pain reduction and...</td>\n",
              "      <td>2</td>\n",
              "      <td>12</td>\n",
              "    </tr>\n",
              "    <tr>\n",
              "      <th>3</th>\n",
              "      <td>METHODS</td>\n",
              "      <td>['pain was assessed using the visual analog pa...</td>\n",
              "      <td>3</td>\n",
              "      <td>12</td>\n",
              "    </tr>\n",
              "    <tr>\n",
              "      <th>4</th>\n",
              "      <td>METHODS</td>\n",
              "      <td>['secondary outcome measures included the west...</td>\n",
              "      <td>4</td>\n",
              "      <td>12</td>\n",
              "    </tr>\n",
              "    <tr>\n",
              "      <th>...</th>\n",
              "      <td>...</td>\n",
              "      <td>...</td>\n",
              "      <td>...</td>\n",
              "      <td>...</td>\n",
              "    </tr>\n",
              "    <tr>\n",
              "      <th>180035</th>\n",
              "      <td>RESULTS</td>\n",
              "      <td>['for the absolute change in percent atheroma ...</td>\n",
              "      <td>7</td>\n",
              "      <td>12</td>\n",
              "    </tr>\n",
              "    <tr>\n",
              "      <th>180036</th>\n",
              "      <td>RESULTS</td>\n",
              "      <td>['for pav , a significantly greater percentage...</td>\n",
              "      <td>8</td>\n",
              "      <td>12</td>\n",
              "    </tr>\n",
              "    <tr>\n",
              "      <th>180037</th>\n",
              "      <td>RESULTS</td>\n",
              "      <td>['both strategies had acceptable side effect p...</td>\n",
              "      <td>9</td>\n",
              "      <td>12</td>\n",
              "    </tr>\n",
              "    <tr>\n",
              "      <th>180038</th>\n",
              "      <td>CONCLUSIONS</td>\n",
              "      <td>['compared with standard statin monotherapy , ...</td>\n",
              "      <td>10</td>\n",
              "      <td>12</td>\n",
              "    </tr>\n",
              "    <tr>\n",
              "      <th>180039</th>\n",
              "      <td>CONCLUSIONS</td>\n",
              "      <td>['( plaque regression with cholesterol absorpt...</td>\n",
              "      <td>11</td>\n",
              "      <td>12</td>\n",
              "    </tr>\n",
              "  </tbody>\n",
              "</table>\n",
              "<p>180040 rows × 4 columns</p>\n",
              "</div>\n",
              "    <div class=\"colab-df-buttons\">\n",
              "\n",
              "  <div class=\"colab-df-container\">\n",
              "    <button class=\"colab-df-convert\" onclick=\"convertToInteractive('df-edd1240a-11ae-46ff-a45f-343aa1650ba1')\"\n",
              "            title=\"Convert this dataframe to an interactive table.\"\n",
              "            style=\"display:none;\">\n",
              "\n",
              "  <svg xmlns=\"http://www.w3.org/2000/svg\" height=\"24px\" viewBox=\"0 -960 960 960\">\n",
              "    <path d=\"M120-120v-720h720v720H120Zm60-500h600v-160H180v160Zm220 220h160v-160H400v160Zm0 220h160v-160H400v160ZM180-400h160v-160H180v160Zm440 0h160v-160H620v160ZM180-180h160v-160H180v160Zm440 0h160v-160H620v160Z\"/>\n",
              "  </svg>\n",
              "    </button>\n",
              "\n",
              "  <style>\n",
              "    .colab-df-container {\n",
              "      display:flex;\n",
              "      gap: 12px;\n",
              "    }\n",
              "\n",
              "    .colab-df-convert {\n",
              "      background-color: #E8F0FE;\n",
              "      border: none;\n",
              "      border-radius: 50%;\n",
              "      cursor: pointer;\n",
              "      display: none;\n",
              "      fill: #1967D2;\n",
              "      height: 32px;\n",
              "      padding: 0 0 0 0;\n",
              "      width: 32px;\n",
              "    }\n",
              "\n",
              "    .colab-df-convert:hover {\n",
              "      background-color: #E2EBFA;\n",
              "      box-shadow: 0px 1px 2px rgba(60, 64, 67, 0.3), 0px 1px 3px 1px rgba(60, 64, 67, 0.15);\n",
              "      fill: #174EA6;\n",
              "    }\n",
              "\n",
              "    .colab-df-buttons div {\n",
              "      margin-bottom: 4px;\n",
              "    }\n",
              "\n",
              "    [theme=dark] .colab-df-convert {\n",
              "      background-color: #3B4455;\n",
              "      fill: #D2E3FC;\n",
              "    }\n",
              "\n",
              "    [theme=dark] .colab-df-convert:hover {\n",
              "      background-color: #434B5C;\n",
              "      box-shadow: 0px 1px 3px 1px rgba(0, 0, 0, 0.15);\n",
              "      filter: drop-shadow(0px 1px 2px rgba(0, 0, 0, 0.3));\n",
              "      fill: #FFFFFF;\n",
              "    }\n",
              "  </style>\n",
              "\n",
              "    <script>\n",
              "      const buttonEl =\n",
              "        document.querySelector('#df-edd1240a-11ae-46ff-a45f-343aa1650ba1 button.colab-df-convert');\n",
              "      buttonEl.style.display =\n",
              "        google.colab.kernel.accessAllowed ? 'block' : 'none';\n",
              "\n",
              "      async function convertToInteractive(key) {\n",
              "        const element = document.querySelector('#df-edd1240a-11ae-46ff-a45f-343aa1650ba1');\n",
              "        const dataTable =\n",
              "          await google.colab.kernel.invokeFunction('convertToInteractive',\n",
              "                                                    [key], {});\n",
              "        if (!dataTable) return;\n",
              "\n",
              "        const docLinkHtml = 'Like what you see? Visit the ' +\n",
              "          '<a target=\"_blank\" href=https://colab.research.google.com/notebooks/data_table.ipynb>data table notebook</a>'\n",
              "          + ' to learn more about interactive tables.';\n",
              "        element.innerHTML = '';\n",
              "        dataTable['output_type'] = 'display_data';\n",
              "        await google.colab.output.renderOutput(dataTable, element);\n",
              "        const docLink = document.createElement('div');\n",
              "        docLink.innerHTML = docLinkHtml;\n",
              "        element.appendChild(docLink);\n",
              "      }\n",
              "    </script>\n",
              "  </div>\n",
              "\n",
              "\n",
              "<div id=\"df-841cf63d-7125-494c-b57b-e6c7648ffefa\">\n",
              "  <button class=\"colab-df-quickchart\" onclick=\"quickchart('df-841cf63d-7125-494c-b57b-e6c7648ffefa')\"\n",
              "            title=\"Suggest charts\"\n",
              "            style=\"display:none;\">\n",
              "\n",
              "<svg xmlns=\"http://www.w3.org/2000/svg\" height=\"24px\"viewBox=\"0 0 24 24\"\n",
              "     width=\"24px\">\n",
              "    <g>\n",
              "        <path d=\"M19 3H5c-1.1 0-2 .9-2 2v14c0 1.1.9 2 2 2h14c1.1 0 2-.9 2-2V5c0-1.1-.9-2-2-2zM9 17H7v-7h2v7zm4 0h-2V7h2v10zm4 0h-2v-4h2v4z\"/>\n",
              "    </g>\n",
              "</svg>\n",
              "  </button>\n",
              "\n",
              "<style>\n",
              "  .colab-df-quickchart {\n",
              "      --bg-color: #E8F0FE;\n",
              "      --fill-color: #1967D2;\n",
              "      --hover-bg-color: #E2EBFA;\n",
              "      --hover-fill-color: #174EA6;\n",
              "      --disabled-fill-color: #AAA;\n",
              "      --disabled-bg-color: #DDD;\n",
              "  }\n",
              "\n",
              "  [theme=dark] .colab-df-quickchart {\n",
              "      --bg-color: #3B4455;\n",
              "      --fill-color: #D2E3FC;\n",
              "      --hover-bg-color: #434B5C;\n",
              "      --hover-fill-color: #FFFFFF;\n",
              "      --disabled-bg-color: #3B4455;\n",
              "      --disabled-fill-color: #666;\n",
              "  }\n",
              "\n",
              "  .colab-df-quickchart {\n",
              "    background-color: var(--bg-color);\n",
              "    border: none;\n",
              "    border-radius: 50%;\n",
              "    cursor: pointer;\n",
              "    display: none;\n",
              "    fill: var(--fill-color);\n",
              "    height: 32px;\n",
              "    padding: 0;\n",
              "    width: 32px;\n",
              "  }\n",
              "\n",
              "  .colab-df-quickchart:hover {\n",
              "    background-color: var(--hover-bg-color);\n",
              "    box-shadow: 0 1px 2px rgba(60, 64, 67, 0.3), 0 1px 3px 1px rgba(60, 64, 67, 0.15);\n",
              "    fill: var(--button-hover-fill-color);\n",
              "  }\n",
              "\n",
              "  .colab-df-quickchart-complete:disabled,\n",
              "  .colab-df-quickchart-complete:disabled:hover {\n",
              "    background-color: var(--disabled-bg-color);\n",
              "    fill: var(--disabled-fill-color);\n",
              "    box-shadow: none;\n",
              "  }\n",
              "\n",
              "  .colab-df-spinner {\n",
              "    border: 2px solid var(--fill-color);\n",
              "    border-color: transparent;\n",
              "    border-bottom-color: var(--fill-color);\n",
              "    animation:\n",
              "      spin 1s steps(1) infinite;\n",
              "  }\n",
              "\n",
              "  @keyframes spin {\n",
              "    0% {\n",
              "      border-color: transparent;\n",
              "      border-bottom-color: var(--fill-color);\n",
              "      border-left-color: var(--fill-color);\n",
              "    }\n",
              "    20% {\n",
              "      border-color: transparent;\n",
              "      border-left-color: var(--fill-color);\n",
              "      border-top-color: var(--fill-color);\n",
              "    }\n",
              "    30% {\n",
              "      border-color: transparent;\n",
              "      border-left-color: var(--fill-color);\n",
              "      border-top-color: var(--fill-color);\n",
              "      border-right-color: var(--fill-color);\n",
              "    }\n",
              "    40% {\n",
              "      border-color: transparent;\n",
              "      border-right-color: var(--fill-color);\n",
              "      border-top-color: var(--fill-color);\n",
              "    }\n",
              "    60% {\n",
              "      border-color: transparent;\n",
              "      border-right-color: var(--fill-color);\n",
              "    }\n",
              "    80% {\n",
              "      border-color: transparent;\n",
              "      border-right-color: var(--fill-color);\n",
              "      border-bottom-color: var(--fill-color);\n",
              "    }\n",
              "    90% {\n",
              "      border-color: transparent;\n",
              "      border-bottom-color: var(--fill-color);\n",
              "    }\n",
              "  }\n",
              "</style>\n",
              "\n",
              "  <script>\n",
              "    async function quickchart(key) {\n",
              "      const quickchartButtonEl =\n",
              "        document.querySelector('#' + key + ' button');\n",
              "      quickchartButtonEl.disabled = true;  // To prevent multiple clicks.\n",
              "      quickchartButtonEl.classList.add('colab-df-spinner');\n",
              "      try {\n",
              "        const charts = await google.colab.kernel.invokeFunction(\n",
              "            'suggestCharts', [key], {});\n",
              "      } catch (error) {\n",
              "        console.error('Error during call to suggestCharts:', error);\n",
              "      }\n",
              "      quickchartButtonEl.classList.remove('colab-df-spinner');\n",
              "      quickchartButtonEl.classList.add('colab-df-quickchart-complete');\n",
              "    }\n",
              "    (() => {\n",
              "      let quickchartButtonEl =\n",
              "        document.querySelector('#df-841cf63d-7125-494c-b57b-e6c7648ffefa button');\n",
              "      quickchartButtonEl.style.display =\n",
              "        google.colab.kernel.accessAllowed ? 'block' : 'none';\n",
              "    })();\n",
              "  </script>\n",
              "</div>\n",
              "\n",
              "  <div id=\"id_b019eeac-b537-4f46-a37c-5221c2131b66\">\n",
              "    <style>\n",
              "      .colab-df-generate {\n",
              "        background-color: #E8F0FE;\n",
              "        border: none;\n",
              "        border-radius: 50%;\n",
              "        cursor: pointer;\n",
              "        display: none;\n",
              "        fill: #1967D2;\n",
              "        height: 32px;\n",
              "        padding: 0 0 0 0;\n",
              "        width: 32px;\n",
              "      }\n",
              "\n",
              "      .colab-df-generate:hover {\n",
              "        background-color: #E2EBFA;\n",
              "        box-shadow: 0px 1px 2px rgba(60, 64, 67, 0.3), 0px 1px 3px 1px rgba(60, 64, 67, 0.15);\n",
              "        fill: #174EA6;\n",
              "      }\n",
              "\n",
              "      [theme=dark] .colab-df-generate {\n",
              "        background-color: #3B4455;\n",
              "        fill: #D2E3FC;\n",
              "      }\n",
              "\n",
              "      [theme=dark] .colab-df-generate:hover {\n",
              "        background-color: #434B5C;\n",
              "        box-shadow: 0px 1px 3px 1px rgba(0, 0, 0, 0.15);\n",
              "        filter: drop-shadow(0px 1px 2px rgba(0, 0, 0, 0.3));\n",
              "        fill: #FFFFFF;\n",
              "      }\n",
              "    </style>\n",
              "    <button class=\"colab-df-generate\" onclick=\"generateWithVariable('train_df')\"\n",
              "            title=\"Generate code using this dataframe.\"\n",
              "            style=\"display:none;\">\n",
              "\n",
              "  <svg xmlns=\"http://www.w3.org/2000/svg\" height=\"24px\"viewBox=\"0 0 24 24\"\n",
              "       width=\"24px\">\n",
              "    <path d=\"M7,19H8.4L18.45,9,17,7.55,7,17.6ZM5,21V16.75L18.45,3.32a2,2,0,0,1,2.83,0l1.4,1.43a1.91,1.91,0,0,1,.58,1.4,1.91,1.91,0,0,1-.58,1.4L9.25,21ZM18.45,9,17,7.55Zm-12,3A5.31,5.31,0,0,0,4.9,8.1,5.31,5.31,0,0,0,1,6.5,5.31,5.31,0,0,0,4.9,4.9,5.31,5.31,0,0,0,6.5,1,5.31,5.31,0,0,0,8.1,4.9,5.31,5.31,0,0,0,12,6.5,5.46,5.46,0,0,0,6.5,12Z\"/>\n",
              "  </svg>\n",
              "    </button>\n",
              "    <script>\n",
              "      (() => {\n",
              "      const buttonEl =\n",
              "        document.querySelector('#id_b019eeac-b537-4f46-a37c-5221c2131b66 button.colab-df-generate');\n",
              "      buttonEl.style.display =\n",
              "        google.colab.kernel.accessAllowed ? 'block' : 'none';\n",
              "\n",
              "      buttonEl.onclick = () => {\n",
              "        google.colab.notebook.generateWithVariable('train_df');\n",
              "      }\n",
              "      })();\n",
              "    </script>\n",
              "  </div>\n",
              "\n",
              "    </div>\n",
              "  </div>\n"
            ],
            "application/vnd.google.colaboratory.intrinsic+json": {
              "type": "dataframe",
              "variable_name": "train_df"
            }
          },
          "metadata": {},
          "execution_count": 23
        }
      ]
    },
    {
      "cell_type": "code",
      "source": [
        "train_df.total_lines.plot.hist();"
      ],
      "metadata": {
        "colab": {
          "base_uri": "https://localhost:8080/",
          "height": 431
        },
        "id": "0CPmmLuhwf_1",
        "outputId": "5fd66bc7-e9c8-4787-a420-128ca1b025aa"
      },
      "execution_count": 24,
      "outputs": [
        {
          "output_type": "display_data",
          "data": {
            "text/plain": [
              "<Figure size 640x480 with 1 Axes>"
            ],
            "image/png": "[encoded data removed]"
          },
          "metadata": {}
        }
      ]
    },
    {
      "cell_type": "code",
      "source": [
        "train_sentences=train_df[\"text\"].tolist()\n",
        "val_sentences=val_df[\"text\"].tolist()\n",
        "test_sentences=test_df[\"text\"].tolist()"
      ],
      "metadata": {
        "id": "G-wOWsxpwk9U"
      },
      "execution_count": 25,
      "outputs": []
    },
    {
      "cell_type": "code",
      "source": [
        "train_sentences[:10]"
      ],
      "metadata": {
        "colab": {
          "base_uri": "https://localhost:8080/"
        },
        "id": "KSEK9XORw6Gn",
        "outputId": "6e5129cf-1d7b-4aad-c5a0-247c40246b9e"
      },
      "execution_count": 26,
      "outputs": [
        {
          "output_type": "execute_result",
          "data": {
            "text/plain": [
              "[\"['to investigate the efficacy of @ weeks of daily low-dose oral prednisolone in improving pain , mobility , and systemic low-grade inflammation in the short term and whether the effect would be sustained at @ weeks in older adults with moderate to severe knee osteoarthritis ( oa ) .']\",\n",
              " \"['a total of @ patients with primary knee oa were randomized @:@ ; @ received @ mg/day of prednisolone and @ received placebo for @ weeks .']\",\n",
              " \"['outcome measures included pain reduction and improvement in function scores and systemic inflammation markers .']\",\n",
              " \"['pain was assessed using the visual analog pain scale ( @-@ mm ) .']\",\n",
              " \"['secondary outcome measures included the western ontario and mcmaster universities osteoarthritis index scores , patient global assessment ( pga ) of the severity of knee oa , and @-min walk distance ( @mwd ) .']\",\n",
              " \"['serum levels of interleukin @ ( il-@ ) , il-@ , tumor necrosis factor ( tnf ) - , and high-sensitivity c-reactive protein ( hscrp ) were measured .']\",\n",
              " \"['there was a clinically relevant reduction in the intervention group compared to the placebo group for knee pain , physical function , pga , and @mwd at @ weeks .']\",\n",
              " \"['the mean difference between treatment arms ( @ % ci ) was @ ( @-@ @ ) , p < @ ; @ ( @-@ @ ) , p < @ ; @ ( @-@ @ ) , p < @ ; and @ ( @-@ @ ) , p < @ , respectively .']\",\n",
              " \"['further , there was a clinically relevant reduction in the serum levels of il-@ , il-@ , tnf - , and hscrp at @ weeks in the intervention group when compared to the placebo group .']\",\n",
              " \"['these differences remained significant at @ weeks .']\"]"
            ]
          },
          "metadata": {},
          "execution_count": 26
        }
      ]
    },
    {
      "cell_type": "code",
      "source": [
        "#visualising the no of sentences per label\n",
        "methods=train_df[\"target\"].value_counts()\n",
        "methods=methods.transpose()\n",
        "plot=pd.DataFrame(methods).plot(kind=\"bar\",figsize=(10,7))"
      ],
      "metadata": {
        "colab": {
          "base_uri": "https://localhost:8080/",
          "height": 705
        },
        "id": "1a2AX4vSyPoI",
        "outputId": "3dff167e-1681-4c47-9c16-5a4d553f57f9"
      },
      "execution_count": 27,
      "outputs": [
        {
          "output_type": "display_data",
          "data": {
            "text/plain": [
              "<Figure size 1000x700 with 1 Axes>"
            ],
            "image/png": "[encoded data removed]"
          },
          "metadata": {}
        }
      ]
    },
    {
      "cell_type": "markdown",
      "source": [
        "#make numeric labels"
      ],
      "metadata": {
        "id": "OXosYi53062W"
      }
    },
    {
      "cell_type": "code",
      "source": [],
      "metadata": {
        "id": "l_Cn7cKY21ry"
      },
      "execution_count": 27,
      "outputs": []
    },
    {
      "cell_type": "markdown",
      "source": [
        "make one hot encoder"
      ],
      "metadata": {
        "id": "4sh_J-LX3_Vh"
      }
    },
    {
      "cell_type": "code",
      "source": [
        "##making numeric labels\n",
        "from sklearn.preprocessing import OneHotEncoder\n",
        "one_hot_encoder=OneHotEncoder(sparse=False)\n",
        "train_labels_one_hot=one_hot_encoder.fit_transform(train_df[\"target\"].to_numpy().reshape(1,-1))\n",
        "val_labels_one_hot=one_hot_encoder.fit_transform(val_df[\"target\"].to_numpy().reshape(1,-1))\n",
        "test_labels_one_hot=one_hot_encoder.fit_transform(test_df[\"target\"].to_numpy().reshape(1,-1))\n",
        "train_labels_one_hot"
      ],
      "metadata": {
        "colab": {
          "base_uri": "https://localhost:8080/"
        },
        "id": "2cL7r0Ui0yd9",
        "outputId": "e9323fb4-ea19-4255-c217-167f52535316"
      },
      "execution_count": 28,
      "outputs": [
        {
          "output_type": "stream",
          "name": "stderr",
          "text": [
            "/usr/local/lib/python3.10/dist-packages/sklearn/preprocessing/_encoders.py:868: FutureWarning: `sparse` was renamed to `sparse_output` in version 1.2 and will be removed in 1.4. `sparse_output` is ignored unless you leave `sparse` to its default value.\n",
            "  warnings.warn(\n",
            "/usr/local/lib/python3.10/dist-packages/sklearn/preprocessing/_encoders.py:868: FutureWarning: `sparse` was renamed to `sparse_output` in version 1.2 and will be removed in 1.4. `sparse_output` is ignored unless you leave `sparse` to its default value.\n",
            "  warnings.warn(\n",
            "/usr/local/lib/python3.10/dist-packages/sklearn/preprocessing/_encoders.py:868: FutureWarning: `sparse` was renamed to `sparse_output` in version 1.2 and will be removed in 1.4. `sparse_output` is ignored unless you leave `sparse` to its default value.\n",
            "  warnings.warn(\n"
          ]
        },
        {
          "output_type": "execute_result",
          "data": {
            "text/plain": [
              "array([[1., 1., 1., ..., 1., 1., 1.]])"
            ]
          },
          "metadata": {},
          "execution_count": 28
        }
      ]
    },
    {
      "cell_type": "code",
      "source": [
        "import tensorflow as tf\n",
        "tf.constant(train_labels_one_hot)"
      ],
      "metadata": {
        "colab": {
          "base_uri": "https://localhost:8080/"
        },
        "id": "yGBjrjlD3ILL",
        "outputId": "3838da67-7b50-4739-ad7a-295e38bd3c9b"
      },
      "execution_count": 29,
      "outputs": [
        {
          "output_type": "execute_result",
          "data": {
            "text/plain": [
              "<tf.Tensor: shape=(1, 180040), dtype=float64, numpy=array([[1., 1., 1., ..., 1., 1., 1.]])>"
            ]
          },
          "metadata": {},
          "execution_count": 29
        }
      ]
    },
    {
      "cell_type": "markdown",
      "source": [
        "method 2 :encoding the labels"
      ],
      "metadata": {
        "id": "3OkYENuk38ky"
      }
    },
    {
      "cell_type": "code",
      "source": [
        "##extract labels (\"target columns \") and encode into integers\n",
        "from sklearn.preprocessing import LabelEncoder\n",
        "label_encode=LabelEncoder()\n",
        "train_labels_encoded=label_encode.fit_transform(train_df[\"target\"].to_numpy())\n",
        "val_labels_encoded=label_encode.fit_transform(val_df[\"target\"].to_numpy())\n",
        "test_labels_encoded=label_encode.fit_transform(test_df[\"target\"].to_numpy())"
      ],
      "metadata": {
        "id": "KKCx7oJc3lZF"
      },
      "execution_count": 30,
      "outputs": []
    },
    {
      "cell_type": "code",
      "source": [
        "train_labels_encoded"
      ],
      "metadata": {
        "colab": {
          "base_uri": "https://localhost:8080/"
        },
        "id": "2Um0U1St3tlN",
        "outputId": "fae7860c-7db9-48f7-e653-f4432a3dfb51"
      },
      "execution_count": 31,
      "outputs": [
        {
          "output_type": "execute_result",
          "data": {
            "text/plain": [
              "array([3, 2, 2, ..., 4, 1, 1])"
            ]
          },
          "metadata": {},
          "execution_count": 31
        }
      ]
    },
    {
      "cell_type": "code",
      "source": [
        "#get class name and no of classes fomr label encoder instance\n",
        "num_classes=len(label_encode.classes_)\n",
        "class_names=label_encode.classes_\n",
        "num_classes,class_names"
      ],
      "metadata": {
        "colab": {
          "base_uri": "https://localhost:8080/"
        },
        "id": "HxRRCklR4HVA",
        "outputId": "84226067-eafd-4857-9faa-0e469d9ff04e"
      },
      "execution_count": 32,
      "outputs": [
        {
          "output_type": "execute_result",
          "data": {
            "text/plain": [
              "(5,\n",
              " array(['BACKGROUND', 'CONCLUSIONS', 'METHODS', 'OBJECTIVE', 'RESULTS'],\n",
              "       dtype=object))"
            ]
          },
          "metadata": {},
          "execution_count": 32
        }
      ]
    },
    {
      "cell_type": "markdown",
      "source": [
        "#Model1: creating a baseline models"
      ],
      "metadata": {
        "id": "nN_mDlAZ4ol8"
      }
    },
    {
      "cell_type": "code",
      "source": [
        "from sklearn.feature_extraction.text import TfidfVectorizer\n",
        "from sklearn.naive_bayes import MultinomialNB\n",
        "\n",
        "from sklearn.pipeline import Pipeline\n",
        "\n",
        "baseline_model=Pipeline([(\"tfidf\",TfidfVectorizer()),(\"clf\",MultinomialNB())])\n",
        "baseline_model.fit(train_sentences,train_labels_encoded)"
      ],
      "metadata": {
        "colab": {
          "base_uri": "https://localhost:8080/",
          "height": 125
        },
        "id": "N1NfFJhQ4m9t",
        "outputId": "4eb956bc-072a-4f46-d751-c0d0b8f79475"
      },
      "execution_count": 33,
      "outputs": [
        {
          "output_type": "execute_result",
          "data": {
            "text/plain": [
              "Pipeline(steps=[('tfidf', TfidfVectorizer()), ('clf', MultinomialNB())])"
            ],
            "text/html": [
              "<style>#sk-container-id-1 {color: black;background-color: white;}#sk-container-id-1 pre{padding: 0;}#sk-container-id-1 div.sk-toggleable {background-color: white;}#sk-container-id-1 label.sk-toggleable__label {cursor: pointer;display: block;width: 100%;margin-bottom: 0;padding: 0.3em;box-sizing: border-box;text-align: center;}#sk-container-id-1 label.sk-toggleable__label-arrow:before {content: \"▸\";float: left;margin-right: 0.25em;color: #696969;}#sk-container-id-1 label.sk-toggleable__label-arrow:hover:before {color: black;}#sk-container-id-1 div.sk-estimator:hover label.sk-toggleable__label-arrow:before {color: black;}#sk-container-id-1 div.sk-toggleable__content {max-height: 0;max-width: 0;overflow: hidden;text-align: left;background-color: #f0f8ff;}#sk-container-id-1 div.sk-toggleable__content pre {margin: 0.2em;color: black;border-radius: 0.25em;background-color: #f0f8ff;}#sk-container-id-1 input.sk-toggleable__control:checked~div.sk-toggleable__content {max-height: 200px;max-width: 100%;overflow: auto;}#sk-container-id-1 input.sk-toggleable__control:checked~label.sk-toggleable__label-arrow:before {content: \"▾\";}#sk-container-id-1 div.sk-estimator input.sk-toggleable__control:checked~label.sk-toggleable__label {background-color: #d4ebff;}#sk-container-id-1 div.sk-label input.sk-toggleable__control:checked~label.sk-toggleable__label {background-color: #d4ebff;}#sk-container-id-1 input.sk-hidden--visually {border: 0;clip: rect(1px 1px 1px 1px);clip: rect(1px, 1px, 1px, 1px);height: 1px;margin: -1px;overflow: hidden;padding: 0;position: absolute;width: 1px;}#sk-container-id-1 div.sk-estimator {font-family: monospace;background-color: #f0f8ff;border: 1px dotted black;border-radius: 0.25em;box-sizing: border-box;margin-bottom: 0.5em;}#sk-container-id-1 div.sk-estimator:hover {background-color: #d4ebff;}#sk-container-id-1 div.sk-parallel-item::after {content: \"\";width: 100%;border-bottom: 1px solid gray;flex-grow: 1;}#sk-container-id-1 div.sk-label:hover label.sk-toggleable__label {background-color: #d4ebff;}#sk-container-id-1 div.sk-serial::before {content: \"\";position: absolute;border-left: 1px solid gray;box-sizing: border-box;top: 0;bottom: 0;left: 50%;z-index: 0;}#sk-container-id-1 div.sk-serial {display: flex;flex-direction: column;align-items: center;background-color: white;padding-right: 0.2em;padding-left: 0.2em;position: relative;}#sk-container-id-1 div.sk-item {position: relative;z-index: 1;}#sk-container-id-1 div.sk-parallel {display: flex;align-items: stretch;justify-content: center;background-color: white;position: relative;}#sk-container-id-1 div.sk-item::before, #sk-container-id-1 div.sk-parallel-item::before {content: \"\";position: absolute;border-left: 1px solid gray;box-sizing: border-box;top: 0;bottom: 0;left: 50%;z-index: -1;}#sk-container-id-1 div.sk-parallel-item {display: flex;flex-direction: column;z-index: 1;position: relative;background-color: white;}#sk-container-id-1 div.sk-parallel-item:first-child::after {align-self: flex-end;width: 50%;}#sk-container-id-1 div.sk-parallel-item:last-child::after {align-self: flex-start;width: 50%;}#sk-container-id-1 div.sk-parallel-item:only-child::after {width: 0;}#sk-container-id-1 div.sk-dashed-wrapped {border: 1px dashed gray;margin: 0 0.4em 0.5em 0.4em;box-sizing: border-box;padding-bottom: 0.4em;background-color: white;}#sk-container-id-1 div.sk-label label {font-family: monospace;font-weight: bold;display: inline-block;line-height: 1.2em;}#sk-container-id-1 div.sk-label-container {text-align: center;}#sk-container-id-1 div.sk-container {/* jupyter's `normalize.less` sets `[hidden] { display: none; }` but bootstrap.min.css set `[hidden] { display: none !important; }` so we also need the `!important` here to be able to override the default hidden behavior on the sphinx rendered scikit-learn.org. See: https://github.com/scikit-learn/scikit-learn/issues/21755 */display: inline-block !important;position: relative;}#sk-container-id-1 div.sk-text-repr-fallback {display: none;}</style><div id=\"sk-container-id-1\" class=\"sk-top-container\"><div class=\"sk-text-repr-fallback\"><pre>Pipeline(steps=[(&#x27;tfidf&#x27;, TfidfVectorizer()), (&#x27;clf&#x27;, MultinomialNB())])</pre><b>In a Jupyter environment, please rerun this cell to show the HTML representation or trust the notebook. <br />On GitHub, the HTML representation is unable to render, please try loading this page with nbviewer.org.</b></div><div class=\"sk-container\" hidden><div class=\"sk-item sk-dashed-wrapped\"><div class=\"sk-label-container\"><div class=\"sk-label sk-toggleable\"><input class=\"sk-toggleable__control sk-hidden--visually\" id=\"sk-estimator-id-1\" type=\"checkbox\" ><label for=\"sk-estimator-id-1\" class=\"sk-toggleable__label sk-toggleable__label-arrow\">Pipeline</label><div class=\"sk-toggleable__content\"><pre>Pipeline(steps=[(&#x27;tfidf&#x27;, TfidfVectorizer()), (&#x27;clf&#x27;, MultinomialNB())])</pre></div></div></div><div class=\"sk-serial\"><div class=\"sk-item\"><div class=\"sk-estimator sk-toggleable\"><input class=\"sk-toggleable__control sk-hidden--visually\" id=\"sk-estimator-id-2\" type=\"checkbox\" ><label for=\"sk-estimator-id-2\" class=\"sk-toggleable__label sk-toggleable__label-arrow\">TfidfVectorizer</label><div class=\"sk-toggleable__content\"><pre>TfidfVectorizer()</pre></div></div></div><div class=\"sk-item\"><div class=\"sk-estimator sk-toggleable\"><input class=\"sk-toggleable__control sk-hidden--visually\" id=\"sk-estimator-id-3\" type=\"checkbox\" ><label for=\"sk-estimator-id-3\" class=\"sk-toggleable__label sk-toggleable__label-arrow\">MultinomialNB</label><div class=\"sk-toggleable__content\"><pre>MultinomialNB()</pre></div></div></div></div></div></div></div>"
            ]
          },
          "metadata": {},
          "execution_count": 33
        }
      ]
    },
    {
      "cell_type": "code",
      "source": [
        "baseline_model.score(val_sentences,val_labels_encoded)"
      ],
      "metadata": {
        "colab": {
          "base_uri": "https://localhost:8080/"
        },
        "id": "0vQ7nuqf-Ytd",
        "outputId": "a7626e54-6b54-4e3b-d04e-173c0fb7498b"
      },
      "execution_count": 34,
      "outputs": [
        {
          "output_type": "execute_result",
          "data": {
            "text/plain": [
              "0.7218323844829869"
            ]
          },
          "metadata": {},
          "execution_count": 34
        }
      ]
    },
    {
      "cell_type": "code",
      "source": [
        "baseline_preds=baseline_model.predict(val_sentences)"
      ],
      "metadata": {
        "id": "TGAN3zv2-z_K"
      },
      "execution_count": 35,
      "outputs": []
    },
    {
      "cell_type": "code",
      "source": [
        "!wget https://raw.githubusercontent.com/mrdbourke/tensorflow-deep-learning/main/extras/helper_functions.py\n"
      ],
      "metadata": {
        "colab": {
          "base_uri": "https://localhost:8080/"
        },
        "id": "07BoAvEC_Y7l",
        "outputId": "dde9c038-5b79-4369-d28c-a799b731b303"
      },
      "execution_count": 36,
      "outputs": [
        {
          "output_type": "stream",
          "name": "stdout",
          "text": [
            "--2024-07-13 09:56:40--  https://raw.githubusercontent.com/mrdbourke/tensorflow-deep-learning/main/extras/helper_functions.py\n",
            "Resolving raw.githubusercontent.com (raw.githubusercontent.com)... 185.199.108.133, 185.199.109.133, 185.199.110.133, ...\n",
            "Connecting to raw.githubusercontent.com (raw.githubusercontent.com)|185.199.108.133|:443... connected.\n",
            "HTTP request sent, awaiting response... 200 OK\n",
            "Length: 10246 (10K) [text/plain]\n",
            "Saving to: ‘helper_functions.py’\n",
            "\n",
            "\rhelper_functions.py   0%[                    ]       0  --.-KB/s               \rhelper_functions.py 100%[===================>]  10.01K  --.-KB/s    in 0s      \n",
            "\n",
            "2024-07-13 09:56:40 (78.4 MB/s) - ‘helper_functions.py’ saved [10246/10246]\n",
            "\n"
          ]
        }
      ]
    },
    {
      "cell_type": "code",
      "source": [
        "from helper_functions import calculate_results\n",
        "\n",
        "\n",
        "# Calculate baseline results\n",
        "baseline_results = calculate_results(y_true=val_labels_encoded,\n",
        "                                     y_pred=baseline_preds)\n",
        "baseline_results\n"
      ],
      "metadata": {
        "colab": {
          "base_uri": "https://localhost:8080/"
        },
        "id": "FywY8bpZ_bmt",
        "outputId": "7c6e1ba8-f7a5-44da-e875-cc95800c1b64"
      },
      "execution_count": 37,
      "outputs": [
        {
          "output_type": "execute_result",
          "data": {
            "text/plain": [
              "{'accuracy': 72.1832384482987,\n",
              " 'precision': 0.7186466952323352,\n",
              " 'recall': 0.7218323844829869,\n",
              " 'f1': 0.6989250353450294}"
            ]
          },
          "metadata": {},
          "execution_count": 37
        }
      ]
    },
    {
      "cell_type": "markdown",
      "source": [
        "## model 2 :conv1D token embeddings"
      ],
      "metadata": {
        "id": "ZU9qEK9E_tK3"
      }
    },
    {
      "cell_type": "code",
      "source": [
        "import numpy as np\n",
        "import tensorflow as tf\n",
        "from tensorflow.keras import layers"
      ],
      "metadata": {
        "id": "evORaJ-0FRbg"
      },
      "execution_count": 38,
      "outputs": []
    },
    {
      "cell_type": "code",
      "source": [
        "sent_lens=[len(sentence.split()) for sentence in train_sentences]\n",
        "avg_sent_len=np.mean(sent_lens)\n",
        "avg_sent_len"
      ],
      "metadata": {
        "colab": {
          "base_uri": "https://localhost:8080/"
        },
        "id": "m2DbDZxYFYiw",
        "outputId": "8b9b27a5-8ae0-484e-8789-c437d07061d1"
      },
      "execution_count": 39,
      "outputs": [
        {
          "output_type": "execute_result",
          "data": {
            "text/plain": [
              "26.338269273494777"
            ]
          },
          "metadata": {},
          "execution_count": 39
        }
      ]
    },
    {
      "cell_type": "code",
      "source": [
        "import matplotlib.pyplot as plt\n",
        "plt.hist(sent_lens,bins=20)"
      ],
      "metadata": {
        "colab": {
          "base_uri": "https://localhost:8080/",
          "height": 569
        },
        "id": "cFKWsCwuGD19",
        "outputId": "d6214be1-3929-4429-9e95-d40b592ca8cc"
      },
      "execution_count": 40,
      "outputs": [
        {
          "output_type": "execute_result",
          "data": {
            "text/plain": [
              "(array([4.2075e+04, 8.3771e+04, 3.6877e+04, 1.0945e+04, 3.9310e+03,\n",
              "        1.4450e+03, 5.6000e+02, 2.2600e+02, 1.0100e+02, 4.5000e+01,\n",
              "        2.0000e+01, 1.2000e+01, 9.0000e+00, 1.0000e+01, 6.0000e+00,\n",
              "        2.0000e+00, 3.0000e+00, 0.0000e+00, 1.0000e+00, 1.0000e+00]),\n",
              " array([  1.  ,  15.75,  30.5 ,  45.25,  60.  ,  74.75,  89.5 , 104.25,\n",
              "        119.  , 133.75, 148.5 , 163.25, 178.  , 192.75, 207.5 , 222.25,\n",
              "        237.  , 251.75, 266.5 , 281.25, 296.  ]),\n",
              " <BarContainer object of 20 artists>)"
            ]
          },
          "metadata": {},
          "execution_count": 40
        },
        {
          "output_type": "display_data",
          "data": {
            "text/plain": [
              "<Figure size 640x480 with 1 Axes>"
            ],
            "image/png": "[encoded data removed]"
          },
          "metadata": {}
        }
      ]
    },
    {
      "cell_type": "code",
      "source": [
        "#how long of a sentence length\n",
        "output_seq_len=int(np.percentile(sent_lens,95))\n",
        "output_seq_len"
      ],
      "metadata": {
        "colab": {
          "base_uri": "https://localhost:8080/"
        },
        "id": "qij_LmV_HZNM",
        "outputId": "9594d3b2-b44a-41fb-cccd-05c6c960b651"
      },
      "execution_count": 41,
      "outputs": [
        {
          "output_type": "execute_result",
          "data": {
            "text/plain": [
              "55"
            ]
          },
          "metadata": {},
          "execution_count": 41
        }
      ]
    },
    {
      "cell_type": "code",
      "source": [
        "from tensorflow.keras.layers import TextVectorization\n",
        "\n",
        "MAX_VOCAB_SIZE=68000\n",
        "text_vectorizer=TextVectorization(max_tokens=MAX_VOCAB_SIZE,output_sequence_length=output_seq_len,pad_to_max_tokens=True)"
      ],
      "metadata": {
        "id": "snS6Jkq0IbPL"
      },
      "execution_count": 42,
      "outputs": []
    },
    {
      "cell_type": "code",
      "source": [
        "#adapt to validation data\n",
        "text_vectorizer.adapt(train_sentences)"
      ],
      "metadata": {
        "id": "3ihU_KHSKVmV"
      },
      "execution_count": 43,
      "outputs": []
    },
    {
      "cell_type": "code",
      "source": [
        "import random\n",
        "target_sentence=random.choice(train_sentences)\n",
        "print(f\"text:\\n{target_sentence}\")\n",
        "print(f\"\\nLength of text: {len(target_sentence.split())}\")\n",
        "print(f\"\\nVectorized tezt:{text_vectorizer([target_sentence])}\")"
      ],
      "metadata": {
        "colab": {
          "base_uri": "https://localhost:8080/"
        },
        "id": "JH4xcxi9KjOY",
        "outputId": "fceabe3c-2fa4-4bff-972a-94a3c0d8f454"
      },
      "execution_count": 44,
      "outputs": [
        {
          "output_type": "stream",
          "name": "stdout",
          "text": [
            "text:\n",
            "['in some mcis , self-reporting of symptoms can decrease the time required for history taking , without sacrificing the completeness of triage information .']\n",
            "\n",
            "Length of text: 24\n",
            "\n",
            "Vectorized tezt:[[    5   584 37114 16579     4   144   171   318     2    63   482    11\n",
            "    726  1140   159 24740     2  8119     4  3927   380     0     0     0\n",
            "      0     0     0     0     0     0     0     0     0     0     0     0\n",
            "      0     0     0     0     0     0     0     0     0     0     0     0\n",
            "      0     0     0     0     0     0     0]]\n"
          ]
        }
      ]
    },
    {
      "cell_type": "code",
      "source": [
        "rct_20k_text_vocab=text_vectorizer.get_vocabulary()\n",
        "print(f\"Number of words in vocab: {len(rct_20k_text_vocab)}\")\n",
        "print(f\"most common words in the vocab: {rct_20k_text_vocab[:5]}\")\n",
        "print(f\"least common words in a vocab : {rct_20k_text_vocab[-5:]}\")"
      ],
      "metadata": {
        "colab": {
          "base_uri": "https://localhost:8080/"
        },
        "id": "OkeJ8G-iLO-z",
        "outputId": "ac95b83a-cb07-4cb8-ad48-4fb7c108dc5d"
      },
      "execution_count": 45,
      "outputs": [
        {
          "output_type": "stream",
          "name": "stdout",
          "text": [
            "Number of words in vocab: 64841\n",
            "most common words in the vocab: ['', '[UNK]', 'the', 'and', 'of']\n",
            "least common words in a vocab : ['aainduced', 'aaigroup', 'aachener', 'aachen', 'aaacp']\n"
          ]
        }
      ]
    },
    {
      "cell_type": "code",
      "source": [
        "#creating the embeddeing layer\n",
        "embedding=layers.Embedding(input_dim=len(rct_20k_text_vocab),output_dim=128,mask_zero=True,input_length=output_seq_len)"
      ],
      "metadata": {
        "id": "Mc28-7wcLrYX"
      },
      "execution_count": 46,
      "outputs": []
    },
    {
      "cell_type": "code",
      "source": [
        "print(f\"Sentence before vectorization: {target_sentence} \\n\")\n",
        "print(f\"Sentence after vectorization: {text_vectorizer([target_sentence])}\")\n",
        "print(f\"Sentence after embedding: {embedding(text_vectorizer([target_sentence]))}\")"
      ],
      "metadata": {
        "colab": {
          "base_uri": "https://localhost:8080/"
        },
        "id": "S4b4Xz0kMcxq",
        "outputId": "f9b28c9b-3ebb-433f-ea6a-3aeefee8108d"
      },
      "execution_count": 47,
      "outputs": [
        {
          "output_type": "stream",
          "name": "stdout",
          "text": [
            "Sentence before vectorization: ['in some mcis , self-reporting of symptoms can decrease the time required for history taking , without sacrificing the completeness of triage information .'] \n",
            "\n",
            "Sentence after vectorization: [[    5   584 37114 16579     4   144   171   318     2    63   482    11\n",
            "    726  1140   159 24740     2  8119     4  3927   380     0     0     0\n",
            "      0     0     0     0     0     0     0     0     0     0     0     0\n",
            "      0     0     0     0     0     0     0     0     0     0     0     0\n",
            "      0     0     0     0     0     0     0]]\n",
            "Sentence after embedding: [[[ 0.01790576 -0.02385533  0.00315902 ... -0.04943269 -0.01888148\n",
            "   -0.04210715]\n",
            "  [ 0.03944485 -0.03773669 -0.02197578 ...  0.04075341  0.0159036\n",
            "    0.02942742]\n",
            "  [-0.00791252 -0.03463509  0.04472264 ... -0.03333651  0.04772377\n",
            "   -0.04080858]\n",
            "  ...\n",
            "  [-0.01106552  0.02519744 -0.04787749 ... -0.04248163  0.02730506\n",
            "   -0.04855746]\n",
            "  [-0.01106552  0.02519744 -0.04787749 ... -0.04248163  0.02730506\n",
            "   -0.04855746]\n",
            "  [-0.01106552  0.02519744 -0.04787749 ... -0.04248163  0.02730506\n",
            "   -0.04855746]]]\n"
          ]
        }
      ]
    },
    {
      "cell_type": "code",
      "source": [
        "input=layers.Input(shape=(1,),dtype=tf.string)\n",
        "x=text_vectorizer(input)\n",
        "x=embedding(x)\n",
        "x=layers.Conv1D(filters=64,kernel_size=5,activation=\"relu\",padding=\"same\")(x)\n",
        "x=layers.GlobalAveragePooling1D()(x)\n",
        "outputs=layers.Dense(num_classes,activation=\"softmax\")(x)\n",
        "model_1=tf.keras.Model(input,outputs)\n"
      ],
      "metadata": {
        "id": "Ur1Y3VwnfMNJ"
      },
      "execution_count": 48,
      "outputs": []
    },
    {
      "cell_type": "code",
      "source": [
        "model_1.summary()"
      ],
      "metadata": {
        "colab": {
          "base_uri": "https://localhost:8080/"
        },
        "id": "O2Sp2-tnlsf1",
        "outputId": "fbcdc424-2904-4c88-e03e-577afa49102c"
      },
      "execution_count": 49,
      "outputs": [
        {
          "output_type": "stream",
          "name": "stdout",
          "text": [
            "Model: \"model\"\n",
            "_________________________________________________________________\n",
            " Layer (type)                Output Shape              Param #   \n",
            "=================================================================\n",
            " input_1 (InputLayer)        [(None, 1)]               0         \n",
            "                                                                 \n",
            " text_vectorization (TextVe  (None, 55)                0         \n",
            " ctorization)                                                    \n",
            "                                                                 \n",
            " embedding (Embedding)       (None, 55, 128)           8299648   \n",
            "                                                                 \n",
            " conv1d (Conv1D)             (None, 55, 64)            41024     \n",
            "                                                                 \n",
            " global_average_pooling1d (  (None, 64)                0         \n",
            " GlobalAveragePooling1D)                                         \n",
            "                                                                 \n",
            " dense (Dense)               (None, 5)                 325       \n",
            "                                                                 \n",
            "=================================================================\n",
            "Total params: 8340997 (31.82 MB)\n",
            "Trainable params: 8340997 (31.82 MB)\n",
            "Non-trainable params: 0 (0.00 Byte)\n",
            "_________________________________________________________________\n"
          ]
        }
      ]
    },
    {
      "cell_type": "code",
      "source": [
        "model_1.compile(loss=\"sparse_categorical_crossentropy\",optimizer=tf.keras.optimizers.Adam(),metrics=[\"accuracy\"])"
      ],
      "metadata": {
        "id": "8AnrUyCyle6V"
      },
      "execution_count": 50,
      "outputs": []
    },
    {
      "cell_type": "code",
      "source": [
        "train_dataset=tf.data.Dataset.from_tensor_slices((train_sentences,train_labels_encoded))\n",
        "val_dataset=tf.data.Dataset.from_tensor_slices((val_sentences,val_labels_encoded))\n",
        "test_dataset=tf.data.Dataset.from_tensor_slices((test_sentences,test_labels_encoded))"
      ],
      "metadata": {
        "id": "32ZD8-KajHyn"
      },
      "execution_count": 51,
      "outputs": []
    },
    {
      "cell_type": "code",
      "source": [
        "train_dataset=train_dataset.batch(batch_size=32).prefetch(tf.data.AUTOTUNE)\n",
        "val_dataset=val_dataset.batch(batch_size=32).prefetch(tf.data.AUTOTUNE)\n",
        "test_dataset=test_dataset.batch(batch_size=32).prefetch(tf.data.AUTOTUNE)\n",
        "train_dataset"
      ],
      "metadata": {
        "colab": {
          "base_uri": "https://localhost:8080/"
        },
        "id": "x-stKHGDjRQA",
        "outputId": "8f09c7a5-933d-4a61-998d-9a78878a30e1"
      },
      "execution_count": 52,
      "outputs": [
        {
          "output_type": "execute_result",
          "data": {
            "text/plain": [
              "<_PrefetchDataset element_spec=(TensorSpec(shape=(None,), dtype=tf.string, name=None), TensorSpec(shape=(None,), dtype=tf.int64, name=None))>"
            ]
          },
          "metadata": {},
          "execution_count": 52
        }
      ]
    },
    {
      "cell_type": "code",
      "source": [
        "history_1=model_1.fit(train_dataset,steps_per_epoch=int(0.1*len(train_dataset)),validation_data=val_dataset,validation_steps=len(val_dataset),epochs=3)"
      ],
      "metadata": {
        "colab": {
          "base_uri": "https://localhost:8080/"
        },
        "id": "Lw0ZPK2Tl9e4",
        "outputId": "ff710640-00f5-4d99-dc6b-750a91631a1c"
      },
      "execution_count": 53,
      "outputs": [
        {
          "output_type": "stream",
          "name": "stdout",
          "text": [
            "Epoch 1/3\n",
            "562/562 [==============================] - 81s 143ms/step - loss: 0.9196 - accuracy: 0.6341 - val_loss: 0.7003 - val_accuracy: 0.7332\n",
            "Epoch 2/3\n",
            "562/562 [==============================] - 76s 135ms/step - loss: 0.6685 - accuracy: 0.7494 - val_loss: 0.6515 - val_accuracy: 0.7647\n",
            "Epoch 3/3\n",
            "562/562 [==============================] - 77s 137ms/step - loss: 0.6290 - accuracy: 0.7681 - val_loss: 0.6092 - val_accuracy: 0.7829\n"
          ]
        }
      ]
    },
    {
      "cell_type": "code",
      "source": [
        "model_1.evaluate(val_dataset)"
      ],
      "metadata": {
        "colab": {
          "base_uri": "https://localhost:8080/"
        },
        "id": "qBTSWl8imwVp",
        "outputId": "e6ff2e45-3bb3-44bb-a44e-89ac0c61b810"
      },
      "execution_count": 54,
      "outputs": [
        {
          "output_type": "stream",
          "name": "stdout",
          "text": [
            "945/945 [==============================] - 6s 7ms/step - loss: 0.6092 - accuracy: 0.7829\n"
          ]
        },
        {
          "output_type": "execute_result",
          "data": {
            "text/plain": [
              "[0.609186589717865, 0.7829339504241943]"
            ]
          },
          "metadata": {},
          "execution_count": 54
        }
      ]
    },
    {
      "cell_type": "code",
      "source": [
        "model_1_pred_probs=model_1.predict(val_dataset)\n",
        "model_1_pred_probs"
      ],
      "metadata": {
        "colab": {
          "base_uri": "https://localhost:8080/"
        },
        "id": "LJ2qiaUJoygk",
        "outputId": "90ca3586-5bfe-42d6-d6d5-2c94dd73e946"
      },
      "execution_count": 55,
      "outputs": [
        {
          "output_type": "stream",
          "name": "stdout",
          "text": [
            "945/945 [==============================] - 6s 6ms/step\n"
          ]
        },
        {
          "output_type": "execute_result",
          "data": {
            "text/plain": [
              "array([[3.8599494e-01, 2.1722116e-01, 9.6618384e-02, 2.6343253e-01,\n",
              "        3.6733024e-02],\n",
              "       [4.5197597e-01, 2.6755702e-01, 1.1075149e-02, 2.6343316e-01,\n",
              "        5.9586167e-03],\n",
              "       [1.7971738e-01, 1.8504709e-02, 2.5221284e-03, 7.9918748e-01,\n",
              "        6.8319408e-05],\n",
              "       ...,\n",
              "       [2.2320010e-06, 7.9286692e-04, 6.4735307e-04, 1.1027994e-06,\n",
              "        9.9855644e-01],\n",
              "       [6.5644354e-02, 4.6578431e-01, 9.4337180e-02, 8.4139593e-02,\n",
              "        2.9009455e-01],\n",
              "       [2.1803549e-01, 5.7016802e-01, 4.1821752e-02, 7.9098374e-02,\n",
              "        9.0876400e-02]], dtype=float32)"
            ]
          },
          "metadata": {},
          "execution_count": 55
        }
      ]
    },
    {
      "cell_type": "code",
      "source": [
        "model_1_probs=tf.argmax(model_1_pred_probs,axis=1)\n",
        "model_1_probs"
      ],
      "metadata": {
        "colab": {
          "base_uri": "https://localhost:8080/"
        },
        "id": "rzSLQIE-o0-n",
        "outputId": "2d86cf5e-edb5-414f-9f73-837fd614ad15"
      },
      "execution_count": 56,
      "outputs": [
        {
          "output_type": "execute_result",
          "data": {
            "text/plain": [
              "<tf.Tensor: shape=(30212,), dtype=int64, numpy=array([0, 0, 3, ..., 4, 1, 1])>"
            ]
          },
          "metadata": {},
          "execution_count": 56
        }
      ]
    },
    {
      "cell_type": "code",
      "source": [
        "model_1_results=calculate_results(y_true=val_labels_encoded,y_pred=model_1_probs)\n",
        "model_1_results"
      ],
      "metadata": {
        "colab": {
          "base_uri": "https://localhost:8080/"
        },
        "id": "qIpVP24BpGmQ",
        "outputId": "354da5d5-1236-4f0d-ece0-7d77222202f5"
      },
      "execution_count": 57,
      "outputs": [
        {
          "output_type": "execute_result",
          "data": {
            "text/plain": [
              "{'accuracy': 78.29339335363431,\n",
              " 'precision': 0.7795573273571087,\n",
              " 'recall': 0.7829339335363432,\n",
              " 'f1': 0.7806313595242516}"
            ]
          },
          "metadata": {},
          "execution_count": 57
        }
      ]
    },
    {
      "cell_type": "code",
      "source": [
        "baseline_results"
      ],
      "metadata": {
        "colab": {
          "base_uri": "https://localhost:8080/"
        },
        "id": "fPMShMH0pJiA",
        "outputId": "d9deb744-b214-4adc-fac0-f52544deefce"
      },
      "execution_count": 58,
      "outputs": [
        {
          "output_type": "execute_result",
          "data": {
            "text/plain": [
              "{'accuracy': 72.1832384482987,\n",
              " 'precision': 0.7186466952323352,\n",
              " 'recall': 0.7218323844829869,\n",
              " 'f1': 0.6989250353450294}"
            ]
          },
          "metadata": {},
          "execution_count": 58
        }
      ]
    },
    {
      "cell_type": "markdown",
      "source": [
        "#Model 2:universal sentence encoder feature extractor model"
      ],
      "metadata": {
        "id": "ZIKtdnD8sBIk"
      }
    },
    {
      "cell_type": "code",
      "source": [
        "import tensorflow_hub as hub\n",
        "use_embedding=hub.KerasLayer(\"https://tfhub.dev/google/universal-sentence-encoder/4\",input_shape=[],trainable=False,dtype=\"string\",name=\"universal_encoder\")\n"
      ],
      "metadata": {
        "id": "5hk3rO6epWkU"
      },
      "execution_count": 59,
      "outputs": []
    },
    {
      "cell_type": "code",
      "source": [
        "import random\n",
        "random_sentence=random.choice(train_sentences)\n",
        "print(f\"Random sentence:\\n{random_sentence}\\n\")\n",
        "use_embedded_sentence=use_embedding([random_sentence])\n",
        "print(f\"random sentence after use embeddings {use_embedded_sentence}\")"
      ],
      "metadata": {
        "colab": {
          "base_uri": "https://localhost:8080/"
        },
        "id": "daZOP5r7sJO9",
        "outputId": "1edb7aa0-cc8d-408f-fa33-3eb1ef49ce0a"
      },
      "execution_count": 60,
      "outputs": [
        {
          "output_type": "stream",
          "name": "stdout",
          "text": [
            "Random sentence:\n",
            "['the objective of this study is to evaluate the effect of an intervention designed to increase md adherence on lung function in smokers with no previous respiratory disease .']\n",
            "\n",
            "random sentence after use embeddings [[ 0.0543167  -0.01919057 -0.04857082 -0.04579536 -0.06579383 -0.07544111\n",
            "  -0.00956745  0.00822918  0.05055837 -0.00769821  0.08569595  0.00855586\n",
            "   0.06836709 -0.00236851  0.06472224  0.01055555 -0.08761781  0.0214771\n",
            "  -0.06953069 -0.04223287 -0.03267832  0.02770303 -0.0010362  -0.03138261\n",
            "  -0.04164568 -0.04380268  0.02209888  0.00241601 -0.05805278 -0.05023582\n",
            "   0.03943202  0.08780283 -0.031563   -0.01645856 -0.05442442 -0.03124676\n",
            "  -0.05875506 -0.04670344 -0.02052773 -0.03778209 -0.05541938  0.07373024\n",
            "  -0.06788035 -0.0234262  -0.06724395  0.08250255  0.04117193  0.02116825\n",
            "   0.0346441  -0.0321005  -0.05219087  0.03439442  0.00429364  0.01317332\n",
            "  -0.06235204  0.04869995  0.01922167  0.0423031   0.0810895  -0.01015532\n",
            "  -0.0267048   0.04150452  0.0511768   0.00178743 -0.0148221  -0.04568753\n",
            "   0.06507181 -0.06040075  0.06276391  0.00590091 -0.02337723 -0.01122486\n",
            "   0.04007976  0.02888109 -0.0098811   0.04595618 -0.02611423  0.01142562\n",
            "  -0.01612145 -0.02228081  0.08652559  0.04732886  0.04342844  0.01429646\n",
            "  -0.04461572 -0.01397963 -0.04836615 -0.01107854  0.01460049 -0.05319562\n",
            "  -0.02910215  0.00438841 -0.02565966  0.04277248  0.01889817  0.04537808\n",
            "  -0.0508699  -0.02128831  0.03134607 -0.05452723 -0.01923859  0.03323687\n",
            "   0.05055374  0.02843476  0.03916604 -0.04198033  0.0255093   0.04488269\n",
            "   0.05113173 -0.03668045  0.00402437 -0.01179322  0.03985781  0.02253312\n",
            "   0.00727312  0.03973421  0.06868089  0.0074531   0.05710552  0.06532285\n",
            "  -0.04943388  0.05055167 -0.025979   -0.03324795 -0.01540471  0.00373232\n",
            "  -0.05570995  0.04576922  0.02535368  0.00272241  0.00787207  0.08812102\n",
            "   0.0622955   0.00360328  0.01793812 -0.05764771  0.02249863  0.05240768\n",
            "  -0.06708359 -0.0437758   0.06335098 -0.04982214 -0.01879124 -0.02534979\n",
            "  -0.04073742 -0.05412133  0.00268791  0.00374096  0.0722916  -0.01788331\n",
            "   0.04831662  0.02480743 -0.04316702 -0.08135889  0.00726083 -0.01529124\n",
            "  -0.02187678  0.03229864 -0.01010115 -0.06602539 -0.04050953 -0.02325146\n",
            "  -0.05445804  0.00741348 -0.06117212 -0.02050723  0.00219315 -0.00309241\n",
            "  -0.07598295 -0.02612805 -0.01922296 -0.08626498 -0.01447393  0.07492284\n",
            "   0.02602844  0.03022789  0.02420384  0.02951097  0.00419105  0.01744688\n",
            "   0.04785005 -0.04164065 -0.03230334 -0.04840616  0.06254347  0.04078746\n",
            "   0.08786443 -0.02816206  0.07912213 -0.00937706  0.00592245  0.06638449\n",
            "   0.02468343  0.05191711  0.03688536  0.01085    -0.06682665 -0.00691106\n",
            "  -0.04578973 -0.04457701  0.02072867 -0.05844476 -0.0602849   0.04322041\n",
            "  -0.02343869 -0.04003368  0.01658594 -0.06208126  0.04095894  0.07364152\n",
            "   0.002483   -0.04523926  0.02524891  0.05779543  0.05394607  0.00482427\n",
            "   0.01017722 -0.03940167  0.06222631  0.02105339 -0.00079814  0.06293488\n",
            "  -0.01029821 -0.06689944  0.03254047 -0.01135536 -0.06611648  0.06626578\n",
            "   0.02756271  0.06393653  0.04240126  0.04315658  0.03243288 -0.04337186\n",
            "   0.0395387  -0.02257785  0.04761914  0.02821585 -0.04654753  0.06877187\n",
            "   0.06571518  0.01379507  0.00371275 -0.07364143  0.0115508  -0.06414828\n",
            "  -0.0568781  -0.02804336  0.03159674 -0.08184683  0.07253513 -0.01665979\n",
            "  -0.02756185 -0.03529529  0.03975442  0.01801562 -0.0573442   0.01741461\n",
            "   0.00095421  0.02798207 -0.00103922  0.0149125  -0.05552863  0.05327099\n",
            "  -0.02512805  0.00792915  0.01266886 -0.06641297  0.02662806 -0.008291\n",
            "  -0.02745623  0.04640646 -0.01985436  0.05351486  0.04228736  0.00242004\n",
            "  -0.02859285  0.04500156  0.04481121 -0.04124941  0.01486265 -0.00672189\n",
            "   0.00226946 -0.03674447  0.08352158 -0.03262974  0.02443126 -0.05196316\n",
            "   0.03477276 -0.03458926 -0.05299136  0.03129253  0.0768519  -0.07845683\n",
            "   0.07875185 -0.02205768  0.01332478  0.00301169 -0.00692768 -0.0167155\n",
            "  -0.01626015 -0.05197987 -0.0208564  -0.02818105 -0.06611568 -0.00902061\n",
            "   0.04961698 -0.04335071  0.00215276  0.07301732 -0.04141709  0.00590827\n",
            "  -0.00427995  0.02490683 -0.05203469 -0.08452443  0.01656144 -0.0320259\n",
            "  -0.02217785  0.00139361 -0.01077832 -0.03542213 -0.03621398  0.0764671\n",
            "  -0.06462596  0.06783863  0.07147011 -0.08349314 -0.06230571  0.05510683\n",
            "  -0.07861361  0.07690115  0.02927313  0.03946283  0.0494586   0.01784092\n",
            "  -0.00532297  0.06471062 -0.00399209  0.00788015 -0.04714413  0.02409733\n",
            "   0.07701766  0.05500932 -0.02768713 -0.08801585  0.04363422  0.03137356\n",
            "  -0.05178146 -0.0225987  -0.01154113  0.00604012  0.03993339  0.07292628\n",
            "   0.06074021 -0.03756481 -0.05372371 -0.06266151  0.05685575  0.03793462\n",
            "   0.02128698  0.03399064 -0.07666838  0.00380509 -0.00410482 -0.05485231\n",
            "   0.04198103  0.07303098  0.00907152 -0.08779709 -0.05821276 -0.00949652\n",
            "  -0.06816852  0.0227976   0.02151484  0.03256562 -0.05551442  0.00798761\n",
            "   0.07197779 -0.08124784 -0.04167477  0.04996374  0.07739286  0.04935647\n",
            "   0.01245434  0.03555706 -0.02179108 -0.01359055  0.00828936  0.06019815\n",
            "   0.01025552  0.07977374 -0.0838099   0.04736009 -0.02334754 -0.02703937\n",
            "   0.02124318 -0.07223985 -0.00193063 -0.03405555 -0.04559497  0.02584541\n",
            "  -0.02016502 -0.02326377 -0.07394199 -0.0396811  -0.02672433  0.02416309\n",
            "   0.0165512   0.03570839  0.06768718  0.02757098  0.00774905 -0.01440044\n",
            "  -0.00933191 -0.02112494  0.07570284  0.07063097 -0.07208429  0.01057936\n",
            "   0.01187656  0.05939253  0.00428789 -0.0213546   0.03993923 -0.00702125\n",
            "   0.02741546  0.04062043  0.04969008 -0.05807514  0.05450801 -0.05910635\n",
            "   0.00199405 -0.04284635  0.01029584  0.03062641  0.04223295  0.05055102\n",
            "   0.06553773  0.01792942 -0.06635578 -0.07063208 -0.00275577  0.01903426\n",
            "  -0.00953731 -0.03788346 -0.00322632 -0.00013176 -0.02682619 -0.05584926\n",
            "   0.04334358 -0.03230604 -0.00873803  0.05490048  0.03237694 -0.04217112\n",
            "   0.05309255  0.07990143  0.01870556  0.02945684  0.01641318  0.02695425\n",
            "   0.01015583  0.00729493 -0.01289898 -0.02051984 -0.04856548 -0.0123559\n",
            "   0.06893244 -0.0236007   0.08271262  0.06972181 -0.03672238 -0.06388446\n",
            "  -0.04471327  0.05796866 -0.05313362 -0.00374836  0.03184206  0.02832983\n",
            "  -0.08042025  0.03764212 -0.0419456  -0.04361606  0.06951796 -0.00492009\n",
            "   0.01767404  0.01187621  0.0768145   0.05121442 -0.06034911 -0.05074892\n",
            "   0.01485889 -0.00386324  0.03278816 -0.02539206  0.06570204 -0.05093614\n",
            "   0.02944762  0.00291445  0.02912353 -0.04299775 -0.02643097 -0.07766804\n",
            "  -0.0400522  -0.08813684  0.04488532 -0.03008145  0.01779772 -0.0546922\n",
            "  -0.0155599  -0.0216162 ]]\n"
          ]
        }
      ]
    },
    {
      "cell_type": "code",
      "source": [
        "inputs=layers.Input(shape=[],dtype=tf.string)\n",
        "#universal sentence encoder\n",
        "x=use_embedding(inputs)\n",
        "x=layers.Dense(64,activation=\"relu\")(x)\n",
        "outputs=layers.Dense(num_classes,activation=\"softmax\")(x)\n",
        "model_2=tf.keras.Model(inputs,outputs)"
      ],
      "metadata": {
        "id": "LGNNMoUxr7yD"
      },
      "execution_count": 61,
      "outputs": []
    },
    {
      "cell_type": "code",
      "source": [
        "model_2.compile(optimizer=tf.keras.optimizers.Adam(),loss=\"sparse_categorical_crossentropy\",metrics=[\"accuracy\"])"
      ],
      "metadata": {
        "id": "12VSmV9ey40W"
      },
      "execution_count": 62,
      "outputs": []
    },
    {
      "cell_type": "code",
      "source": [
        "history_2=model_2.fit(train_dataset,steps_per_epoch=int(0.1*len(train_dataset)),validation_data=val_dataset,validation_steps=len(val_dataset),epochs=3)\n"
      ],
      "metadata": {
        "colab": {
          "base_uri": "https://localhost:8080/"
        },
        "id": "389UOJSlrwoi",
        "outputId": "d86f61c4-953f-4f10-9fe9-cc6fce642127"
      },
      "execution_count": 63,
      "outputs": [
        {
          "output_type": "stream",
          "name": "stdout",
          "text": [
            "Epoch 1/3\n",
            "562/562 [==============================] - 20s 31ms/step - loss: 0.9554 - accuracy: 0.6395 - val_loss: 0.8124 - val_accuracy: 0.6899\n",
            "Epoch 2/3\n",
            "562/562 [==============================] - 18s 32ms/step - loss: 0.7837 - accuracy: 0.6947 - val_loss: 0.7697 - val_accuracy: 0.7038\n",
            "Epoch 3/3\n",
            "562/562 [==============================] - 28s 50ms/step - loss: 0.7714 - accuracy: 0.7045 - val_loss: 0.7587 - val_accuracy: 0.7070\n"
          ]
        }
      ]
    },
    {
      "cell_type": "code",
      "source": [
        "model_2.evaluate(val_dataset)"
      ],
      "metadata": {
        "colab": {
          "base_uri": "https://localhost:8080/"
        },
        "id": "XTFx55jLzCbm",
        "outputId": "f4079c5b-63d0-4459-b183-66d22a6001bd"
      },
      "execution_count": 64,
      "outputs": [
        {
          "output_type": "stream",
          "name": "stdout",
          "text": [
            "945/945 [==============================] - 12s 13ms/step - loss: 0.7587 - accuracy: 0.7070\n"
          ]
        },
        {
          "output_type": "execute_result",
          "data": {
            "text/plain": [
              "[0.75869220495224, 0.7070038318634033]"
            ]
          },
          "metadata": {},
          "execution_count": 64
        }
      ]
    },
    {
      "cell_type": "code",
      "source": [
        "model_2_preds_probs=model_2.predict(val_dataset)\n",
        "model_2_preds_probs.shape"
      ],
      "metadata": {
        "colab": {
          "base_uri": "https://localhost:8080/"
        },
        "id": "Xoj4Qj0zP7hg",
        "outputId": "e2085903-6f1b-4c0c-892d-a87803c81fdf"
      },
      "execution_count": 65,
      "outputs": [
        {
          "output_type": "stream",
          "name": "stdout",
          "text": [
            "945/945 [==============================] - 12s 13ms/step\n"
          ]
        },
        {
          "output_type": "execute_result",
          "data": {
            "text/plain": [
              "(30212, 5)"
            ]
          },
          "metadata": {},
          "execution_count": 65
        }
      ]
    },
    {
      "cell_type": "code",
      "source": [
        "model_2_preds=tf.argmax(model_2_preds_probs,axis=1)\n",
        "model_2_preds"
      ],
      "metadata": {
        "colab": {
          "base_uri": "https://localhost:8080/"
        },
        "id": "wD0agHdfQEMS",
        "outputId": "dea298da-0fe0-449a-e602-3f3a75ff2440"
      },
      "execution_count": 66,
      "outputs": [
        {
          "output_type": "execute_result",
          "data": {
            "text/plain": [
              "<tf.Tensor: shape=(30212,), dtype=int64, numpy=array([0, 1, 3, ..., 4, 4, 2])>"
            ]
          },
          "metadata": {},
          "execution_count": 66
        }
      ]
    },
    {
      "cell_type": "code",
      "source": [
        "model_2_results = calculate_results(y_true=val_labels_encoded, y_pred=model_2_preds)\n",
        "model_2_results"
      ],
      "metadata": {
        "colab": {
          "base_uri": "https://localhost:8080/"
        },
        "id": "jJb4OlbAQP2f",
        "outputId": "57eddd0d-ba79-48f4-cd88-c5cb1fdc3b79"
      },
      "execution_count": 67,
      "outputs": [
        {
          "output_type": "execute_result",
          "data": {
            "text/plain": [
              "{'accuracy': 70.70038395339601,\n",
              " 'precision': 0.7067414133119241,\n",
              " 'recall': 0.7070038395339601,\n",
              " 'f1': 0.7032304048478932}"
            ]
          },
          "metadata": {},
          "execution_count": 67
        }
      ]
    },
    {
      "cell_type": "markdown",
      "source": [
        "#Model 3 : conv1d with character embeddings"
      ],
      "metadata": {
        "id": "MiEMYm8VREqj"
      }
    },
    {
      "cell_type": "code",
      "source": [
        "def split_chars(text):\n",
        "  return \" \".join(list(text))"
      ],
      "metadata": {
        "id": "6BgUHUImQT3Z"
      },
      "execution_count": 68,
      "outputs": []
    },
    {
      "cell_type": "code",
      "source": [
        "random_sentence"
      ],
      "metadata": {
        "colab": {
          "base_uri": "https://localhost:8080/",
          "height": 53
        },
        "id": "h0Y_HuzdR5WA",
        "outputId": "489c47c0-4063-4713-b38f-93e2b626ec77"
      },
      "execution_count": 69,
      "outputs": [
        {
          "output_type": "execute_result",
          "data": {
            "text/plain": [
              "\"['the objective of this study is to evaluate the effect of an intervention designed to increase md adherence on lung function in smokers with no previous respiratory disease .']\""
            ],
            "application/vnd.google.colaboratory.intrinsic+json": {
              "type": "string"
            }
          },
          "metadata": {},
          "execution_count": 69
        }
      ]
    },
    {
      "cell_type": "code",
      "source": [
        "val=split_chars(random_sentence)\n",
        "val"
      ],
      "metadata": {
        "colab": {
          "base_uri": "https://localhost:8080/",
          "height": 88
        },
        "id": "ibhJO-StRkqE",
        "outputId": "b3eb9561-fcff-4c33-f81d-e5af91b4be71"
      },
      "execution_count": 70,
      "outputs": [
        {
          "output_type": "execute_result",
          "data": {
            "text/plain": [
              "\"[ ' t h e   o b j e c t i v e   o f   t h i s   s t u d y   i s   t o   e v a l u a t e   t h e   e f f e c t   o f   a n   i n t e r v e n t i o n   d e s i g n e d   t o   i n c r e a s e   m d   a d h e r e n c e   o n   l u n g   f u n c t i o n   i n   s m o k e r s   w i t h   n o   p r e v i o u s   r e s p i r a t o r y   d i s e a s e   . ' ]\""
            ],
            "application/vnd.google.colaboratory.intrinsic+json": {
              "type": "string"
            }
          },
          "metadata": {},
          "execution_count": 70
        }
      ]
    },
    {
      "cell_type": "code",
      "source": [
        "train_chars=[split_chars(sentence) for sentence in train_sentences]\n",
        "val_chars=[split_chars(sentence) for sentence in val_sentences]\n",
        "test_chars=[split_chars(sentence) for sentence in test_sentences]\n",
        "train_chars[:3]"
      ],
      "metadata": {
        "colab": {
          "base_uri": "https://localhost:8080/"
        },
        "id": "DP833oJ6Rxze",
        "outputId": "3e5a054a-d55f-4299-af41-83c9b31e8fa6"
      },
      "execution_count": 71,
      "outputs": [
        {
          "output_type": "execute_result",
          "data": {
            "text/plain": [
              "[\"[ ' t o   i n v e s t i g a t e   t h e   e f f i c a c y   o f   @   w e e k s   o f   d a i l y   l o w - d o s e   o r a l   p r e d n i s o l o n e   i n   i m p r o v i n g   p a i n   ,   m o b i l i t y   ,   a n d   s y s t e m i c   l o w - g r a d e   i n f l a m m a t i o n   i n   t h e   s h o r t   t e r m   a n d   w h e t h e r   t h e   e f f e c t   w o u l d   b e   s u s t a i n e d   a t   @   w e e k s   i n   o l d e r   a d u l t s   w i t h   m o d e r a t e   t o   s e v e r e   k n e e   o s t e o a r t h r i t i s   (   o a   )   . ' ]\",\n",
              " \"[ ' a   t o t a l   o f   @   p a t i e n t s   w i t h   p r i m a r y   k n e e   o a   w e r e   r a n d o m i z e d   @ : @   ;   @   r e c e i v e d   @   m g / d a y   o f   p r e d n i s o l o n e   a n d   @   r e c e i v e d   p l a c e b o   f o r   @   w e e k s   . ' ]\",\n",
              " \"[ ' o u t c o m e   m e a s u r e s   i n c l u d e d   p a i n   r e d u c t i o n   a n d   i m p r o v e m e n t   i n   f u n c t i o n   s c o r e s   a n d   s y s t e m i c   i n f l a m m a t i o n   m a r k e r s   . ' ]\"]"
            ]
          },
          "metadata": {},
          "execution_count": 71
        }
      ]
    },
    {
      "cell_type": "code",
      "source": [
        "#average character length?\n",
        "char_lens=[len(sentence) for sentence in train_sentences]\n",
        "mean_char_len=np.mean(char_lens)\n",
        "mean_char_len"
      ],
      "metadata": {
        "colab": {
          "base_uri": "https://localhost:8080/"
        },
        "id": "MJAr4YIMSI81",
        "outputId": "34461b4b-05e8-443b-db86-15a1903ccccc"
      },
      "execution_count": 72,
      "outputs": [
        {
          "output_type": "execute_result",
          "data": {
            "text/plain": [
              "153.36626305265497"
            ]
          },
          "metadata": {},
          "execution_count": 72
        }
      ]
    },
    {
      "cell_type": "code",
      "source": [
        "import matplotlib.pyplot as plt\n",
        "plt.hist(char_lens,bins=7)"
      ],
      "metadata": {
        "colab": {
          "base_uri": "https://localhost:8080/",
          "height": 517
        },
        "id": "5CD6CZdDSidA",
        "outputId": "353becaf-4f62-40cd-d74c-41a465f50bd6"
      },
      "execution_count": 73,
      "outputs": [
        {
          "output_type": "execute_result",
          "data": {
            "text/plain": [
              "(array([1.41175e+05, 3.71110e+04, 1.60000e+03, 1.27000e+02, 2.10000e+01,\n",
              "        5.00000e+00, 1.00000e+00]),\n",
              " array([   5.        ,  202.85714286,  400.71428571,  598.57142857,\n",
              "         796.42857143,  994.28571429, 1192.14285714, 1390.        ]),\n",
              " <BarContainer object of 7 artists>)"
            ]
          },
          "metadata": {},
          "execution_count": 73
        },
        {
          "output_type": "display_data",
          "data": {
            "text/plain": [
              "<Figure size 640x480 with 1 Axes>"
            ],
            "image/png": "[encoded data removed]"
          },
          "metadata": {}
        }
      ]
    },
    {
      "cell_type": "code",
      "source": [
        "#95 percent of alphabets\n",
        "output_seq_char_len=int(np.percentile(char_lens,95))\n",
        "output_seq_char_len"
      ],
      "metadata": {
        "colab": {
          "base_uri": "https://localhost:8080/"
        },
        "id": "KuUZvptHSvAN",
        "outputId": "bb762f9a-a594-48dc-97ed-f36777914247"
      },
      "execution_count": 74,
      "outputs": [
        {
          "output_type": "execute_result",
          "data": {
            "text/plain": [
              "294"
            ]
          },
          "metadata": {},
          "execution_count": 74
        }
      ]
    },
    {
      "cell_type": "code",
      "source": [
        "#get all keyboard characters\n",
        "import string\n",
        "alphabet=string.ascii_lowercase+string.digits\n",
        "alphabet"
      ],
      "metadata": {
        "colab": {
          "base_uri": "https://localhost:8080/",
          "height": 36
        },
        "id": "zyqMR_NeS9VN",
        "outputId": "6db063b9-e4c7-4253-b875-808f7231652b"
      },
      "execution_count": 75,
      "outputs": [
        {
          "output_type": "execute_result",
          "data": {
            "text/plain": [
              "'abcdefghijklmnopqrstuvwxyz0123456789'"
            ],
            "application/vnd.google.colaboratory.intrinsic+json": {
              "type": "string"
            }
          },
          "metadata": {},
          "execution_count": 75
        }
      ]
    },
    {
      "cell_type": "code",
      "source": [
        "#create char-level token vectorizer instance\n",
        "NUM_CHAR_TOKENS=len(alphabet)+2 #add 2 for space and OOV token (out of vocab ,\"[UNK]\")\n",
        "char_vectorizer =TextVectorization(max_tokens=NUM_CHAR_TOKENS,output_sequence_length=output_seq_char_len)"
      ],
      "metadata": {
        "id": "LJpv-1jPTOeP"
      },
      "execution_count": 76,
      "outputs": []
    },
    {
      "cell_type": "code",
      "source": [
        "char_vectorizer.adapt(train_chars)"
      ],
      "metadata": {
        "id": "b22YM7kBanjl"
      },
      "execution_count": 77,
      "outputs": []
    },
    {
      "cell_type": "code",
      "source": [
        "char_vocab=char_vectorizer.get_vocabulary()\n",
        "print(f\"no of different characters in character vocab {len(char_vocab)}\")\n",
        "print(f\"5 most common characters: {char_vocab[:5]}\")\n",
        "print(f\"5 least common characters: {char_vocab[-5:]}\")"
      ],
      "metadata": {
        "colab": {
          "base_uri": "https://localhost:8080/"
        },
        "id": "LIqSiJbqa2D2",
        "outputId": "53278a6f-349c-4583-b026-cbf000a5e5a3"
      },
      "execution_count": 78,
      "outputs": [
        {
          "output_type": "stream",
          "name": "stdout",
          "text": [
            "no of different characters in character vocab 28\n",
            "5 most common characters: ['', '[UNK]', 'e', 't', 'i']\n",
            "5 least common characters: ['k', 'x', 'z', 'q', 'j']\n"
          ]
        }
      ]
    },
    {
      "cell_type": "code",
      "source": [
        "random_chars=random.choice(train_chars)\n",
        "print(f\"charified text:\\n {random_chars}\")\n",
        "print(f\"5 most common character  {char_vectorizer(random_chars)[:5]}\")\n",
        "print(f\"5 least common character {char_vectorizer(random_chars)[-5:]}\")"
      ],
      "metadata": {
        "colab": {
          "base_uri": "https://localhost:8080/"
        },
        "id": "q9qr5-F0a60q",
        "outputId": "15a40fc3-e144-41da-d3dd-a73ec037e3d1"
      },
      "execution_count": 79,
      "outputs": [
        {
          "output_type": "stream",
          "name": "stdout",
          "text": [
            "charified text:\n",
            " [ ' s e p t i c   p a t i e n t s / c @ b l / @   m i c e   a n d   h u m a n   e n d o t h e l i a l   c e l l s   . ' ]\n",
            "5 most common character  [ 9  2 14  3  4]\n",
            "5 least common character [0 0 0 0 0]\n"
          ]
        }
      ]
    },
    {
      "cell_type": "code",
      "source": [
        "char_embed=layers.Embedding(input_dim=len(char_vocab),output_dim=25,mask_zero=True,input_length=output_seq_char_len,name=\"char_embed\")\n"
      ],
      "metadata": {
        "id": "12VVIIBLbayM"
      },
      "execution_count": 80,
      "outputs": []
    },
    {
      "cell_type": "code",
      "source": [
        "print(f\"charified text :\\n {random_chars}\")\n",
        "char_embed_example=char_embed(char_vectorizer(random_chars))\n",
        "print(f\"embedded chars  after vectorization and embedding {char_embed_example}\")\n",
        "print(f\"character embedding shape: {char_embed_example.shape}\")"
      ],
      "metadata": {
        "colab": {
          "base_uri": "https://localhost:8080/"
        },
        "id": "w4YE3YjXcUhH",
        "outputId": "eb12a13a-7d0c-4e09-8818-e8d0732d8bf7"
      },
      "execution_count": 81,
      "outputs": [
        {
          "output_type": "stream",
          "name": "stdout",
          "text": [
            "charified text :\n",
            " [ ' s e p t i c   p a t i e n t s / c @ b l / @   m i c e   a n d   h u m a n   e n d o t h e l i a l   c e l l s   . ' ]\n",
            "embedded chars  after vectorization and embedding [[ 0.04511495 -0.00441055 -0.01044666 ...  0.01116319  0.02927123\n",
            "  -0.04383997]\n",
            " [-0.0211515  -0.01053679 -0.01732565 ... -0.01220632  0.00249885\n",
            "  -0.02011087]\n",
            " [-0.01967251 -0.04907177 -0.01802765 ...  0.02189641  0.0268486\n",
            "  -0.04047216]\n",
            " ...\n",
            " [ 0.01528959  0.03928104 -0.03024602 ...  0.04967329 -0.03128447\n",
            "   0.01096634]\n",
            " [ 0.01528959  0.03928104 -0.03024602 ...  0.04967329 -0.03128447\n",
            "   0.01096634]\n",
            " [ 0.01528959  0.03928104 -0.03024602 ...  0.04967329 -0.03128447\n",
            "   0.01096634]]\n",
            "character embedding shape: (294, 25)\n"
          ]
        }
      ]
    },
    {
      "cell_type": "code",
      "source": [
        "inputs=layers.Input(shape=(1,),dtype=tf.string)\n",
        "x=char_vectorizer(inputs)\n",
        "x=char_embed(x)\n",
        "x=tf.keras.layers.Conv1D(filters=64,kernel_size=5,activation=\"relu\",padding=\"same\")(x)\n",
        "x=tf.keras.layers.GlobalMaxPooling1D()(x)\n",
        "outputs=tf.keras.layers.Dense(num_classes,activation=\"softmax\")(x)\n",
        "model_3=tf.keras.Model(inputs,outputs)"
      ],
      "metadata": {
        "id": "240WKtnNcfzr"
      },
      "execution_count": 82,
      "outputs": []
    },
    {
      "cell_type": "code",
      "source": [
        "train_chars_dataset=tf.data.Dataset.from_tensor_slices((train_chars,train_labels_encoded))\n",
        "val_chars_dataset=tf.data.Dataset.from_tensor_slices((val_chars,val_labels_encoded))\n",
        "test_chars_dataset=tf.data.Dataset.from_tensor_slices((test_chars,test_labels_encoded))"
      ],
      "metadata": {
        "id": "3SmbrbPGh67Q"
      },
      "execution_count": 83,
      "outputs": []
    },
    {
      "cell_type": "code",
      "source": [
        "train_chars_dataset=train_chars_dataset.batch(32).prefetch(tf.data.AUTOTUNE)\n",
        "test_chars_dataset=test_chars_dataset.batch(32).prefetch(tf.data.AUTOTUNE)\n",
        "val_chars_dataset=val_chars_dataset.batch(32).prefetch(tf.data.AUTOTUNE)"
      ],
      "metadata": {
        "id": "Ijg-8lm0iktb"
      },
      "execution_count": 84,
      "outputs": []
    },
    {
      "cell_type": "code",
      "source": [
        "model_3.compile(loss=\"sparse_categorical_crossentropy\",optimizer=tf.keras.optimizers.Adam(),metrics=[\"accuracy\"])"
      ],
      "metadata": {
        "id": "gU4DyreHg_dA"
      },
      "execution_count": 85,
      "outputs": []
    },
    {
      "cell_type": "code",
      "source": [
        "history_3=model_3.fit(train_chars_dataset,steps_per_epoch=int(0.1*len(train_chars_dataset)),validation_data=val_chars_dataset,validation_steps=len(val_chars_dataset),epochs=3)"
      ],
      "metadata": {
        "colab": {
          "base_uri": "https://localhost:8080/"
        },
        "id": "vzKuLl90j-PL",
        "outputId": "cfcab8ec-1959-41c5-e6ad-59f7ac98d603"
      },
      "execution_count": 192,
      "outputs": [
        {
          "output_type": "stream",
          "name": "stdout",
          "text": [
            "Epoch 1/3\n",
            "562/562 [==============================] - 19s 33ms/step - loss: 1.2125 - accuracy: 0.5068 - val_loss: 1.0833 - val_accuracy: 0.5615\n",
            "Epoch 2/3\n",
            "562/562 [==============================] - 19s 33ms/step - loss: 1.0474 - accuracy: 0.5771 - val_loss: 1.0037 - val_accuracy: 0.5976\n",
            "Epoch 3/3\n",
            "562/562 [==============================] - 20s 36ms/step - loss: 0.9745 - accuracy: 0.6095 - val_loss: 0.9291 - val_accuracy: 0.6330\n"
          ]
        }
      ]
    },
    {
      "cell_type": "code",
      "source": [
        "model_3_preds_probs=model_3.predict(val_chars)\n",
        "model_3_preds_probs"
      ],
      "metadata": {
        "colab": {
          "base_uri": "https://localhost:8080/"
        },
        "id": "zhqcsKxlhMyy",
        "outputId": "831442e2-6112-4480-a82d-f450dde25c59"
      },
      "execution_count": 193,
      "outputs": [
        {
          "output_type": "stream",
          "name": "stdout",
          "text": [
            "945/945 [==============================] - 7s 7ms/step\n"
          ]
        },
        {
          "output_type": "execute_result",
          "data": {
            "text/plain": [
              "array([[0.18153568, 0.35869527, 0.1372679 , 0.29124093, 0.03126022],\n",
              "       [0.13859136, 0.669745  , 0.02134773, 0.09135426, 0.07896162],\n",
              "       [0.25719485, 0.38453466, 0.08886195, 0.23872584, 0.03068258],\n",
              "       ...,\n",
              "       [0.02191385, 0.07954749, 0.31805202, 0.08409985, 0.49638683],\n",
              "       [0.05681311, 0.15867637, 0.35193905, 0.16971818, 0.26285335],\n",
              "       [0.31010312, 0.50102943, 0.07729727, 0.07764629, 0.03392391]],\n",
              "      dtype=float32)"
            ]
          },
          "metadata": {},
          "execution_count": 193
        }
      ]
    },
    {
      "cell_type": "code",
      "source": [
        "model_3_preds=tf.argmax(model_3_preds_probs,axis=1)"
      ],
      "metadata": {
        "id": "_Mt6B4fMhUV1"
      },
      "execution_count": 194,
      "outputs": []
    },
    {
      "cell_type": "code",
      "source": [
        "model_3_results=calculate_results(y_true=val_labels_encoded,y_pred=model_3_preds)\n",
        "model_3_results"
      ],
      "metadata": {
        "colab": {
          "base_uri": "https://localhost:8080/"
        },
        "id": "OEwEQ-iulhJO",
        "outputId": "6ac6de08-cc73-4796-e340-af1f6e68cf4a"
      },
      "execution_count": 195,
      "outputs": [
        {
          "output_type": "execute_result",
          "data": {
            "text/plain": [
              "{'accuracy': 63.30266119422746,\n",
              " 'precision': 0.6361664681718863,\n",
              " 'recall': 0.6330266119422746,\n",
              " 'f1': 0.6206117844043715}"
            ]
          },
          "metadata": {},
          "execution_count": 195
        }
      ]
    },
    {
      "cell_type": "markdown",
      "source": [
        "#Model 4 : multi modal model\n",
        "\n",
        "1.create a token-level embedding model \\n\n",
        "2.create  a character-level model \\n\n",
        "3.combine  1 and 2"
      ],
      "metadata": {
        "id": "r54s_MMml8_X"
      }
    },
    {
      "cell_type": "code",
      "source": [
        "#setting up token inputs\n",
        "token_inputs=layers.Input(shape=[],dtype=tf.string,name=\"token_inputs\")\n",
        "token_embeddings=use_embedding(token_inputs)\n",
        "token_output=layers.Dense(128,activation=\"relu\")(token_embeddings)\n",
        "token_model=tf.keras.Model(inputs=token_inputs,outputs=token_output)\n",
        "\n",
        "#setting up character inputs/model\n",
        "char_inputs=layers.Input(shape=(1,),dtype=tf.string,name=\"char_inputs\")\n",
        "x=char_vectorizer(char_inputs)\n",
        "x=char_embed(x)\n",
        "char_bi_lstm_output=layers.Bidirectional(layers.LSTM(24))(x)\n",
        "char_model=tf.keras.Model(char_inputs,char_bi_lstm_output)\n",
        "#concatenate token and char\n",
        "token_char_concat=layers.Concatenate(name=\"concatenate_layer\")([token_output,char_bi_lstm_output])\n",
        "\n",
        "#create output layers -adding dropout ,discussed\n",
        "combined_dropout=layers.Dropout(0.5,name=\"first_dropout\")(token_char_concat)\n",
        "combined_dense=layers.Dense(128,activation=\"relu\")(combined_dropout)\n",
        "final_droput=layers.Dropout(0.5,name=\"final_dropout\")(combined_dense)\n",
        "output_layer=layers.Dense(num_classes,activation=\"softmax\")\n",
        "\n",
        "model_4=tf.keras.Model(inputs=[token_model.input,char_model.input],outputs=output_layer(final_droput),name=\"model_4_token_char_embeddings\")"
      ],
      "metadata": {
        "id": "ce7tFQi8moa2"
      },
      "execution_count": 196,
      "outputs": []
    },
    {
      "cell_type": "code",
      "source": [
        "token_inputs = layers.Input(shape=[], dtype=tf.string, name=\"token_input\")\n",
        "token_embeddings = use_embedding(token_inputs)\n",
        "token_output = layers.Dense(128, activation=\"relu\")(token_embeddings)\n",
        "token_model = tf.keras.Model(inputs=token_inputs,\n",
        "                             outputs=token_output)\n",
        "\n",
        "# 2. Setup char inputs/model\n",
        "char_inputs = layers.Input(shape=(1,), dtype=tf.string, name=\"char_input\")\n",
        "char_vectors = char_vectorizer(char_inputs)\n",
        "char_embeddings = char_embed(char_vectors)\n",
        "char_bi_lstm = layers.Bidirectional(layers.LSTM(25))(char_embeddings) # bi-LSTM shown in Figure 1 of https://arxiv.org/pdf/1612.05251.pdf\n",
        "char_model = tf.keras.Model(inputs=char_inputs,\n",
        "                            outputs=char_bi_lstm)\n",
        "\n",
        "# 3. Concatenate token and char inputs (create hybrid token embedding)\n",
        "token_char_concat = layers.Concatenate(name=\"token_char_hybrid\")([token_model.output,\n",
        "                                                                  char_model.output])\n",
        "\n",
        "# 4. Create output layers - addition of dropout discussed in 4.2 of https://arxiv.org/pdf/1612.05251.pdf\n",
        "combined_dropout = layers.Dropout(0.5)(token_char_concat)\n",
        "combined_dense = layers.Dense(200, activation=\"relu\")(combined_dropout) # slightly different to Figure 1 due to different shapes of token/char embedding layers\n",
        "final_dropout = layers.Dropout(0.5)(combined_dense)\n",
        "output_layer = layers.Dense(num_classes, activation=\"softmax\")(final_dropout)\n",
        "\n",
        "# 5. Construct model with char and token inputs\n",
        "model_conv1d_4 = tf.keras.Model(inputs=[token_model.input, char_model.input],\n",
        "                         outputs=output_layer,\n",
        "                         name=\"model_4_token_and_char_embeddings\")\n"
      ],
      "metadata": {
        "id": "GHzoxGuc06uX"
      },
      "execution_count": 197,
      "outputs": []
    },
    {
      "cell_type": "code",
      "source": [
        "model_conv1d_4.summary()"
      ],
      "metadata": {
        "colab": {
          "base_uri": "https://localhost:8080/"
        },
        "id": "J9lGvQN1moYm",
        "outputId": "3b2f32a3-f419-46e8-d35e-c351e9d9d71b"
      },
      "execution_count": 198,
      "outputs": [
        {
          "output_type": "stream",
          "name": "stdout",
          "text": [
            "Model: \"model_4_token_and_char_embeddings\"\n",
            "__________________________________________________________________________________________________\n",
            " Layer (type)                Output Shape                 Param #   Connected to                  \n",
            "==================================================================================================\n",
            " char_input (InputLayer)     [(None, 1)]                  0         []                            \n",
            "                                                                                                  \n",
            " token_input (InputLayer)    [(None,)]                    0         []                            \n",
            "                                                                                                  \n",
            " text_vectorization_1 (Text  (None, 294)                  0         ['char_input[0][0]']          \n",
            " Vectorization)                                                                                   \n",
            "                                                                                                  \n",
            " universal_encoder (KerasLa  (None, 512)                  2567978   ['token_input[0][0]']         \n",
            " yer)                                                     24                                      \n",
            "                                                                                                  \n",
            " char_embed (Embedding)      (None, 294, 25)              700       ['text_vectorization_1[7][0]']\n",
            "                                                                                                  \n",
            " dense_37 (Dense)            (None, 128)                  65664     ['universal_encoder[7][0]']   \n",
            "                                                                                                  \n",
            " bidirectional_6 (Bidirecti  (None, 50)                   10200     ['char_embed[7][0]']          \n",
            " onal)                                                                                            \n",
            "                                                                                                  \n",
            " token_char_hybrid (Concate  (None, 178)                  0         ['dense_37[0][0]',            \n",
            " nate)                                                               'bidirectional_6[0][0]']     \n",
            "                                                                                                  \n",
            " dropout_5 (Dropout)         (None, 178)                  0         ['token_char_hybrid[0][0]']   \n",
            "                                                                                                  \n",
            " dense_38 (Dense)            (None, 200)                  35800     ['dropout_5[0][0]']           \n",
            "                                                                                                  \n",
            " dropout_6 (Dropout)         (None, 200)                  0         ['dense_38[0][0]']            \n",
            "                                                                                                  \n",
            " dense_39 (Dense)            (None, 5)                    1005      ['dropout_6[0][0]']           \n",
            "                                                                                                  \n",
            "==================================================================================================\n",
            "Total params: 256911193 (980.04 MB)\n",
            "Trainable params: 113369 (442.85 KB)\n",
            "Non-trainable params: 256797824 (979.61 MB)\n",
            "__________________________________________________________________________________________________\n"
          ]
        }
      ]
    },
    {
      "cell_type": "code",
      "source": [
        "#plot hybrid token and character model\n",
        "from keras.utils import plot_model\n",
        "plot_model(model_conv1d_4,show_shapes=True)"
      ],
      "metadata": {
        "colab": {
          "base_uri": "https://localhost:8080/",
          "height": 976
        },
        "id": "0ZgI_ErZlyDB",
        "outputId": "e1d493c2-9daa-4eb2-dfd7-98b29016c1d5"
      },
      "execution_count": 199,
      "outputs": [
        {
          "output_type": "execute_result",
          "data": {
            "image/png": "[encoded data removed]",
            "text/plain": [
              "<IPython.core.display.Image object>"
            ]
          },
          "metadata": {},
          "execution_count": 199
        }
      ]
    },
    {
      "cell_type": "code",
      "source": [
        "model_conv1d_4.compile(loss=\"sparse_categorical_crossentropy\",optimizer=tf.keras.optimizers.Adam(),metrics=[\"accuracy\"])"
      ],
      "metadata": {
        "id": "4t_KjxWop6_8"
      },
      "execution_count": 200,
      "outputs": []
    },
    {
      "cell_type": "code",
      "source": [
        "num_classes"
      ],
      "metadata": {
        "colab": {
          "base_uri": "https://localhost:8080/"
        },
        "id": "BY_Ied53mbhU",
        "outputId": "3aaf13c4-04c9-4032-9913-cec0be97cbb1"
      },
      "execution_count": 201,
      "outputs": [
        {
          "output_type": "execute_result",
          "data": {
            "text/plain": [
              "5"
            ]
          },
          "metadata": {},
          "execution_count": 201
        }
      ]
    },
    {
      "cell_type": "code",
      "source": [
        "train_labels_one_hot.shape"
      ],
      "metadata": {
        "id": "e5NLDzkfo9N8"
      },
      "execution_count": null,
      "outputs": []
    },
    {
      "cell_type": "code",
      "source": [
        "train_char_token_data = tf.data.Dataset.from_tensor_slices((train_sentences, train_chars)) # make data\n",
        "train_char_token_labels = tf.data.Dataset.from_tensor_slices(train_labels_encoded) # make labels\n",
        "train_char_token_dataset = tf.data.Dataset.zip((train_char_token_data, train_char_token_labels)) # combine data and labels\n",
        "\n",
        "# Prefetch and batch train data\n",
        "train_char_token_dataset = train_char_token_dataset.batch(32).prefetch(tf.data.AUTOTUNE)\n",
        "\n",
        "# Repeat same steps validation data\n",
        "val_char_token_data = tf.data.Dataset.from_tensor_slices((val_sentences, val_chars))\n",
        "val_char_token_labels = tf.data.Dataset.from_tensor_slices(val_labels_encoded)\n",
        "val_char_token_dataset = tf.data.Dataset.zip((val_char_token_data, val_char_token_labels))\n",
        "val_char_token_dataset = val_char_token_dataset.batch(32).prefetch(tf.data.AUTOTUNE)\n",
        "\n",
        "test_char_token_data=tf.data.Dataset.from_tensor_slices((test_sentences,test_chars))\n",
        "test_char_token_labels=tf.data.Dataset.from_tensor_slices((test_labels_encoded))\n",
        "test_char_token_dataset=tf.data.Dataset.zip((test_char_token_data,test_char_token_labels))\n",
        "test_char_token_dataset=test_char_token_dataset.batch(32).prefetch(tf.data.AUTOTUNE)"
      ],
      "metadata": {
        "id": "09kvIHwTlOx1"
      },
      "execution_count": 202,
      "outputs": []
    },
    {
      "cell_type": "code",
      "source": [],
      "metadata": {
        "id": "lWdXbfZEuARI"
      },
      "execution_count": null,
      "outputs": []
    },
    {
      "cell_type": "code",
      "source": [
        "model_4_history = model_conv1d_4.fit(train_char_token_dataset, # train on dataset of token and characters\n",
        "                              steps_per_epoch=int(0.1*len(train_char_token_dataset)),epochs=3,\n",
        "                              validation_data=val_char_token_dataset,\n",
        "                              validation_steps=int(0.1 * len(val_char_token_dataset)))\n"
      ],
      "metadata": {
        "colab": {
          "base_uri": "https://localhost:8080/"
        },
        "id": "Q753y1eW1OPI",
        "outputId": "0fce1e91-079c-4eb8-cadb-990590bdc483"
      },
      "execution_count": 203,
      "outputs": [
        {
          "output_type": "stream",
          "name": "stdout",
          "text": [
            "Epoch 1/3\n",
            "562/562 [==============================] - 263s 344ms/step - loss: 0.9702 - accuracy: 0.6160 - val_loss: 0.7742 - val_accuracy: 0.6991\n",
            "Epoch 2/3\n",
            "562/562 [==============================] - 189s 337ms/step - loss: 0.7876 - accuracy: 0.6943 - val_loss: 0.7108 - val_accuracy: 0.7267\n",
            "Epoch 3/3\n",
            "562/562 [==============================] - 190s 339ms/step - loss: 0.7629 - accuracy: 0.7056 - val_loss: 0.6950 - val_accuracy: 0.7384\n"
          ]
        }
      ]
    },
    {
      "cell_type": "code",
      "source": [
        "model_4_preds_probs=model_conv1d_4.predict(val_char_token_dataset)\n",
        "model_4_preds_probs"
      ],
      "metadata": {
        "colab": {
          "base_uri": "https://localhost:8080/"
        },
        "id": "ofPVtzoftHea",
        "outputId": "e2404ee7-16e8-4edc-aead-748de4e7abb1"
      },
      "execution_count": 204,
      "outputs": [
        {
          "output_type": "stream",
          "name": "stdout",
          "text": [
            "945/945 [==============================] - 73s 74ms/step\n"
          ]
        },
        {
          "output_type": "execute_result",
          "data": {
            "text/plain": [
              "array([[4.5427030e-01, 3.1602976e-01, 2.8079054e-03, 2.2295597e-01,\n",
              "        3.9359694e-03],\n",
              "       [3.6235449e-01, 4.2679682e-01, 3.5499777e-03, 2.0554216e-01,\n",
              "        1.7565656e-03],\n",
              "       [2.7333406e-01, 6.8631954e-02, 3.1631857e-02, 6.1058438e-01,\n",
              "        1.5817722e-02],\n",
              "       ...,\n",
              "       [4.9547531e-04, 6.6601681e-03, 4.5632225e-02, 1.7793235e-04,\n",
              "        9.4703418e-01],\n",
              "       [7.3407693e-03, 5.7753805e-02, 2.3922543e-01, 3.5348795e-03,\n",
              "        6.9214505e-01],\n",
              "       [2.8095362e-01, 3.8509136e-01, 2.4938375e-01, 4.0522136e-02,\n",
              "        4.4049110e-02]], dtype=float32)"
            ]
          },
          "metadata": {},
          "execution_count": 204
        }
      ]
    },
    {
      "cell_type": "code",
      "source": [
        "model_4_preds=tf.argmax(model_4_preds_probs,axis=1)\n",
        "model_4_preds"
      ],
      "metadata": {
        "colab": {
          "base_uri": "https://localhost:8080/"
        },
        "id": "mL2VHDnTr2-O",
        "outputId": "d53b8c72-6464-4b3a-d6f0-4a8a34195d2e"
      },
      "execution_count": 205,
      "outputs": [
        {
          "output_type": "execute_result",
          "data": {
            "text/plain": [
              "<tf.Tensor: shape=(30212,), dtype=int64, numpy=array([0, 1, 3, ..., 4, 4, 1])>"
            ]
          },
          "metadata": {},
          "execution_count": 205
        }
      ]
    },
    {
      "cell_type": "code",
      "source": [
        "model_4_results=calculate_results(y_true=val_labels_encoded,y_pred=model_4_preds)\n",
        "model_4_results"
      ],
      "metadata": {
        "colab": {
          "base_uri": "https://localhost:8080/"
        },
        "id": "awGRQGHzr2FO",
        "outputId": "c9f44300-05ce-4395-aa6b-15ad2cb5985d"
      },
      "execution_count": 206,
      "outputs": [
        {
          "output_type": "execute_result",
          "data": {
            "text/plain": [
              "{'accuracy': 73.26889977492387,\n",
              " 'precision': 0.7333102924253668,\n",
              " 'recall': 0.7326889977492387,\n",
              " 'f1': 0.7319197120188324}"
            ]
          },
          "metadata": {},
          "execution_count": 206
        }
      ]
    },
    {
      "cell_type": "markdown",
      "source": [
        "#Model 5:pretrained embedding +positional embeddings"
      ],
      "metadata": {
        "id": "y9ecWPgdu61H"
      }
    },
    {
      "cell_type": "code",
      "source": [
        "train_df"
      ],
      "metadata": {
        "colab": {
          "base_uri": "https://localhost:8080/",
          "height": 423
        },
        "id": "bLi5ggndvrQR",
        "outputId": "4c65a2ad-837a-479c-9b14-7861063c7501"
      },
      "execution_count": 87,
      "outputs": [
        {
          "output_type": "execute_result",
          "data": {
            "text/plain": [
              "             target                                               text  \\\n",
              "0         OBJECTIVE  ['to investigate the efficacy of @ weeks of da...   \n",
              "1           METHODS  ['a total of @ patients with primary knee oa w...   \n",
              "2           METHODS  ['outcome measures included pain reduction and...   \n",
              "3           METHODS  ['pain was assessed using the visual analog pa...   \n",
              "4           METHODS  ['secondary outcome measures included the west...   \n",
              "...             ...                                                ...   \n",
              "180035      RESULTS  ['for the absolute change in percent atheroma ...   \n",
              "180036      RESULTS  ['for pav , a significantly greater percentage...   \n",
              "180037      RESULTS  ['both strategies had acceptable side effect p...   \n",
              "180038  CONCLUSIONS  ['compared with standard statin monotherapy , ...   \n",
              "180039  CONCLUSIONS  ['( plaque regression with cholesterol absorpt...   \n",
              "\n",
              "        line_number  total_lines  \n",
              "0                 0           12  \n",
              "1                 1           12  \n",
              "2                 2           12  \n",
              "3                 3           12  \n",
              "4                 4           12  \n",
              "...             ...          ...  \n",
              "180035            7           12  \n",
              "180036            8           12  \n",
              "180037            9           12  \n",
              "180038           10           12  \n",
              "180039           11           12  \n",
              "\n",
              "[180040 rows x 4 columns]"
            ],
            "text/html": [
              "\n",
              "  <div id=\"df-0df0ea5a-57d8-4c9b-a4fe-43cd2ef6b78e\" class=\"colab-df-container\">\n",
              "    <div>\n",
              "<style scoped>\n",
              "    .dataframe tbody tr th:only-of-type {\n",
              "        vertical-align: middle;\n",
              "    }\n",
              "\n",
              "    .dataframe tbody tr th {\n",
              "        vertical-align: top;\n",
              "    }\n",
              "\n",
              "    .dataframe thead th {\n",
              "        text-align: right;\n",
              "    }\n",
              "</style>\n",
              "<table border=\"1\" class=\"dataframe\">\n",
              "  <thead>\n",
              "    <tr style=\"text-align: right;\">\n",
              "      <th></th>\n",
              "      <th>target</th>\n",
              "      <th>text</th>\n",
              "      <th>line_number</th>\n",
              "      <th>total_lines</th>\n",
              "    </tr>\n",
              "  </thead>\n",
              "  <tbody>\n",
              "    <tr>\n",
              "      <th>0</th>\n",
              "      <td>OBJECTIVE</td>\n",
              "      <td>['to investigate the efficacy of @ weeks of da...</td>\n",
              "      <td>0</td>\n",
              "      <td>12</td>\n",
              "    </tr>\n",
              "    <tr>\n",
              "      <th>1</th>\n",
              "      <td>METHODS</td>\n",
              "      <td>['a total of @ patients with primary knee oa w...</td>\n",
              "      <td>1</td>\n",
              "      <td>12</td>\n",
              "    </tr>\n",
              "    <tr>\n",
              "      <th>2</th>\n",
              "      <td>METHODS</td>\n",
              "      <td>['outcome measures included pain reduction and...</td>\n",
              "      <td>2</td>\n",
              "      <td>12</td>\n",
              "    </tr>\n",
              "    <tr>\n",
              "      <th>3</th>\n",
              "      <td>METHODS</td>\n",
              "      <td>['pain was assessed using the visual analog pa...</td>\n",
              "      <td>3</td>\n",
              "      <td>12</td>\n",
              "    </tr>\n",
              "    <tr>\n",
              "      <th>4</th>\n",
              "      <td>METHODS</td>\n",
              "      <td>['secondary outcome measures included the west...</td>\n",
              "      <td>4</td>\n",
              "      <td>12</td>\n",
              "    </tr>\n",
              "    <tr>\n",
              "      <th>...</th>\n",
              "      <td>...</td>\n",
              "      <td>...</td>\n",
              "      <td>...</td>\n",
              "      <td>...</td>\n",
              "    </tr>\n",
              "    <tr>\n",
              "      <th>180035</th>\n",
              "      <td>RESULTS</td>\n",
              "      <td>['for the absolute change in percent atheroma ...</td>\n",
              "      <td>7</td>\n",
              "      <td>12</td>\n",
              "    </tr>\n",
              "    <tr>\n",
              "      <th>180036</th>\n",
              "      <td>RESULTS</td>\n",
              "      <td>['for pav , a significantly greater percentage...</td>\n",
              "      <td>8</td>\n",
              "      <td>12</td>\n",
              "    </tr>\n",
              "    <tr>\n",
              "      <th>180037</th>\n",
              "      <td>RESULTS</td>\n",
              "      <td>['both strategies had acceptable side effect p...</td>\n",
              "      <td>9</td>\n",
              "      <td>12</td>\n",
              "    </tr>\n",
              "    <tr>\n",
              "      <th>180038</th>\n",
              "      <td>CONCLUSIONS</td>\n",
              "      <td>['compared with standard statin monotherapy , ...</td>\n",
              "      <td>10</td>\n",
              "      <td>12</td>\n",
              "    </tr>\n",
              "    <tr>\n",
              "      <th>180039</th>\n",
              "      <td>CONCLUSIONS</td>\n",
              "      <td>['( plaque regression with cholesterol absorpt...</td>\n",
              "      <td>11</td>\n",
              "      <td>12</td>\n",
              "    </tr>\n",
              "  </tbody>\n",
              "</table>\n",
              "<p>180040 rows × 4 columns</p>\n",
              "</div>\n",
              "    <div class=\"colab-df-buttons\">\n",
              "\n",
              "  <div class=\"colab-df-container\">\n",
              "    <button class=\"colab-df-convert\" onclick=\"convertToInteractive('df-0df0ea5a-57d8-4c9b-a4fe-43cd2ef6b78e')\"\n",
              "            title=\"Convert this dataframe to an interactive table.\"\n",
              "            style=\"display:none;\">\n",
              "\n",
              "  <svg xmlns=\"http://www.w3.org/2000/svg\" height=\"24px\" viewBox=\"0 -960 960 960\">\n",
              "    <path d=\"M120-120v-720h720v720H120Zm60-500h600v-160H180v160Zm220 220h160v-160H400v160Zm0 220h160v-160H400v160ZM180-400h160v-160H180v160Zm440 0h160v-160H620v160ZM180-180h160v-160H180v160Zm440 0h160v-160H620v160Z\"/>\n",
              "  </svg>\n",
              "    </button>\n",
              "\n",
              "  <style>\n",
              "    .colab-df-container {\n",
              "      display:flex;\n",
              "      gap: 12px;\n",
              "    }\n",
              "\n",
              "    .colab-df-convert {\n",
              "      background-color: #E8F0FE;\n",
              "      border: none;\n",
              "      border-radius: 50%;\n",
              "      cursor: pointer;\n",
              "      display: none;\n",
              "      fill: #1967D2;\n",
              "      height: 32px;\n",
              "      padding: 0 0 0 0;\n",
              "      width: 32px;\n",
              "    }\n",
              "\n",
              "    .colab-df-convert:hover {\n",
              "      background-color: #E2EBFA;\n",
              "      box-shadow: 0px 1px 2px rgba(60, 64, 67, 0.3), 0px 1px 3px 1px rgba(60, 64, 67, 0.15);\n",
              "      fill: #174EA6;\n",
              "    }\n",
              "\n",
              "    .colab-df-buttons div {\n",
              "      margin-bottom: 4px;\n",
              "    }\n",
              "\n",
              "    [theme=dark] .colab-df-convert {\n",
              "      background-color: #3B4455;\n",
              "      fill: #D2E3FC;\n",
              "    }\n",
              "\n",
              "    [theme=dark] .colab-df-convert:hover {\n",
              "      background-color: #434B5C;\n",
              "      box-shadow: 0px 1px 3px 1px rgba(0, 0, 0, 0.15);\n",
              "      filter: drop-shadow(0px 1px 2px rgba(0, 0, 0, 0.3));\n",
              "      fill: #FFFFFF;\n",
              "    }\n",
              "  </style>\n",
              "\n",
              "    <script>\n",
              "      const buttonEl =\n",
              "        document.querySelector('#df-0df0ea5a-57d8-4c9b-a4fe-43cd2ef6b78e button.colab-df-convert');\n",
              "      buttonEl.style.display =\n",
              "        google.colab.kernel.accessAllowed ? 'block' : 'none';\n",
              "\n",
              "      async function convertToInteractive(key) {\n",
              "        const element = document.querySelector('#df-0df0ea5a-57d8-4c9b-a4fe-43cd2ef6b78e');\n",
              "        const dataTable =\n",
              "          await google.colab.kernel.invokeFunction('convertToInteractive',\n",
              "                                                    [key], {});\n",
              "        if (!dataTable) return;\n",
              "\n",
              "        const docLinkHtml = 'Like what you see? Visit the ' +\n",
              "          '<a target=\"_blank\" href=https://colab.research.google.com/notebooks/data_table.ipynb>data table notebook</a>'\n",
              "          + ' to learn more about interactive tables.';\n",
              "        element.innerHTML = '';\n",
              "        dataTable['output_type'] = 'display_data';\n",
              "        await google.colab.output.renderOutput(dataTable, element);\n",
              "        const docLink = document.createElement('div');\n",
              "        docLink.innerHTML = docLinkHtml;\n",
              "        element.appendChild(docLink);\n",
              "      }\n",
              "    </script>\n",
              "  </div>\n",
              "\n",
              "\n",
              "<div id=\"df-df73f49f-69b6-49f6-9229-82cc38506237\">\n",
              "  <button class=\"colab-df-quickchart\" onclick=\"quickchart('df-df73f49f-69b6-49f6-9229-82cc38506237')\"\n",
              "            title=\"Suggest charts\"\n",
              "            style=\"display:none;\">\n",
              "\n",
              "<svg xmlns=\"http://www.w3.org/2000/svg\" height=\"24px\"viewBox=\"0 0 24 24\"\n",
              "     width=\"24px\">\n",
              "    <g>\n",
              "        <path d=\"M19 3H5c-1.1 0-2 .9-2 2v14c0 1.1.9 2 2 2h14c1.1 0 2-.9 2-2V5c0-1.1-.9-2-2-2zM9 17H7v-7h2v7zm4 0h-2V7h2v10zm4 0h-2v-4h2v4z\"/>\n",
              "    </g>\n",
              "</svg>\n",
              "  </button>\n",
              "\n",
              "<style>\n",
              "  .colab-df-quickchart {\n",
              "      --bg-color: #E8F0FE;\n",
              "      --fill-color: #1967D2;\n",
              "      --hover-bg-color: #E2EBFA;\n",
              "      --hover-fill-color: #174EA6;\n",
              "      --disabled-fill-color: #AAA;\n",
              "      --disabled-bg-color: #DDD;\n",
              "  }\n",
              "\n",
              "  [theme=dark] .colab-df-quickchart {\n",
              "      --bg-color: #3B4455;\n",
              "      --fill-color: #D2E3FC;\n",
              "      --hover-bg-color: #434B5C;\n",
              "      --hover-fill-color: #FFFFFF;\n",
              "      --disabled-bg-color: #3B4455;\n",
              "      --disabled-fill-color: #666;\n",
              "  }\n",
              "\n",
              "  .colab-df-quickchart {\n",
              "    background-color: var(--bg-color);\n",
              "    border: none;\n",
              "    border-radius: 50%;\n",
              "    cursor: pointer;\n",
              "    display: none;\n",
              "    fill: var(--fill-color);\n",
              "    height: 32px;\n",
              "    padding: 0;\n",
              "    width: 32px;\n",
              "  }\n",
              "\n",
              "  .colab-df-quickchart:hover {\n",
              "    background-color: var(--hover-bg-color);\n",
              "    box-shadow: 0 1px 2px rgba(60, 64, 67, 0.3), 0 1px 3px 1px rgba(60, 64, 67, 0.15);\n",
              "    fill: var(--button-hover-fill-color);\n",
              "  }\n",
              "\n",
              "  .colab-df-quickchart-complete:disabled,\n",
              "  .colab-df-quickchart-complete:disabled:hover {\n",
              "    background-color: var(--disabled-bg-color);\n",
              "    fill: var(--disabled-fill-color);\n",
              "    box-shadow: none;\n",
              "  }\n",
              "\n",
              "  .colab-df-spinner {\n",
              "    border: 2px solid var(--fill-color);\n",
              "    border-color: transparent;\n",
              "    border-bottom-color: var(--fill-color);\n",
              "    animation:\n",
              "      spin 1s steps(1) infinite;\n",
              "  }\n",
              "\n",
              "  @keyframes spin {\n",
              "    0% {\n",
              "      border-color: transparent;\n",
              "      border-bottom-color: var(--fill-color);\n",
              "      border-left-color: var(--fill-color);\n",
              "    }\n",
              "    20% {\n",
              "      border-color: transparent;\n",
              "      border-left-color: var(--fill-color);\n",
              "      border-top-color: var(--fill-color);\n",
              "    }\n",
              "    30% {\n",
              "      border-color: transparent;\n",
              "      border-left-color: var(--fill-color);\n",
              "      border-top-color: var(--fill-color);\n",
              "      border-right-color: var(--fill-color);\n",
              "    }\n",
              "    40% {\n",
              "      border-color: transparent;\n",
              "      border-right-color: var(--fill-color);\n",
              "      border-top-color: var(--fill-color);\n",
              "    }\n",
              "    60% {\n",
              "      border-color: transparent;\n",
              "      border-right-color: var(--fill-color);\n",
              "    }\n",
              "    80% {\n",
              "      border-color: transparent;\n",
              "      border-right-color: var(--fill-color);\n",
              "      border-bottom-color: var(--fill-color);\n",
              "    }\n",
              "    90% {\n",
              "      border-color: transparent;\n",
              "      border-bottom-color: var(--fill-color);\n",
              "    }\n",
              "  }\n",
              "</style>\n",
              "\n",
              "  <script>\n",
              "    async function quickchart(key) {\n",
              "      const quickchartButtonEl =\n",
              "        document.querySelector('#' + key + ' button');\n",
              "      quickchartButtonEl.disabled = true;  // To prevent multiple clicks.\n",
              "      quickchartButtonEl.classList.add('colab-df-spinner');\n",
              "      try {\n",
              "        const charts = await google.colab.kernel.invokeFunction(\n",
              "            'suggestCharts', [key], {});\n",
              "      } catch (error) {\n",
              "        console.error('Error during call to suggestCharts:', error);\n",
              "      }\n",
              "      quickchartButtonEl.classList.remove('colab-df-spinner');\n",
              "      quickchartButtonEl.classList.add('colab-df-quickchart-complete');\n",
              "    }\n",
              "    (() => {\n",
              "      let quickchartButtonEl =\n",
              "        document.querySelector('#df-df73f49f-69b6-49f6-9229-82cc38506237 button');\n",
              "      quickchartButtonEl.style.display =\n",
              "        google.colab.kernel.accessAllowed ? 'block' : 'none';\n",
              "    })();\n",
              "  </script>\n",
              "</div>\n",
              "\n",
              "  <div id=\"id_c19139f4-7dab-4593-8af1-aae2a7545b6d\">\n",
              "    <style>\n",
              "      .colab-df-generate {\n",
              "        background-color: #E8F0FE;\n",
              "        border: none;\n",
              "        border-radius: 50%;\n",
              "        cursor: pointer;\n",
              "        display: none;\n",
              "        fill: #1967D2;\n",
              "        height: 32px;\n",
              "        padding: 0 0 0 0;\n",
              "        width: 32px;\n",
              "      }\n",
              "\n",
              "      .colab-df-generate:hover {\n",
              "        background-color: #E2EBFA;\n",
              "        box-shadow: 0px 1px 2px rgba(60, 64, 67, 0.3), 0px 1px 3px 1px rgba(60, 64, 67, 0.15);\n",
              "        fill: #174EA6;\n",
              "      }\n",
              "\n",
              "      [theme=dark] .colab-df-generate {\n",
              "        background-color: #3B4455;\n",
              "        fill: #D2E3FC;\n",
              "      }\n",
              "\n",
              "      [theme=dark] .colab-df-generate:hover {\n",
              "        background-color: #434B5C;\n",
              "        box-shadow: 0px 1px 3px 1px rgba(0, 0, 0, 0.15);\n",
              "        filter: drop-shadow(0px 1px 2px rgba(0, 0, 0, 0.3));\n",
              "        fill: #FFFFFF;\n",
              "      }\n",
              "    </style>\n",
              "    <button class=\"colab-df-generate\" onclick=\"generateWithVariable('train_df')\"\n",
              "            title=\"Generate code using this dataframe.\"\n",
              "            style=\"display:none;\">\n",
              "\n",
              "  <svg xmlns=\"http://www.w3.org/2000/svg\" height=\"24px\"viewBox=\"0 0 24 24\"\n",
              "       width=\"24px\">\n",
              "    <path d=\"M7,19H8.4L18.45,9,17,7.55,7,17.6ZM5,21V16.75L18.45,3.32a2,2,0,0,1,2.83,0l1.4,1.43a1.91,1.91,0,0,1,.58,1.4,1.91,1.91,0,0,1-.58,1.4L9.25,21ZM18.45,9,17,7.55Zm-12,3A5.31,5.31,0,0,0,4.9,8.1,5.31,5.31,0,0,0,1,6.5,5.31,5.31,0,0,0,4.9,4.9,5.31,5.31,0,0,0,6.5,1,5.31,5.31,0,0,0,8.1,4.9,5.31,5.31,0,0,0,12,6.5,5.46,5.46,0,0,0,6.5,12Z\"/>\n",
              "  </svg>\n",
              "    </button>\n",
              "    <script>\n",
              "      (() => {\n",
              "      const buttonEl =\n",
              "        document.querySelector('#id_c19139f4-7dab-4593-8af1-aae2a7545b6d button.colab-df-generate');\n",
              "      buttonEl.style.display =\n",
              "        google.colab.kernel.accessAllowed ? 'block' : 'none';\n",
              "\n",
              "      buttonEl.onclick = () => {\n",
              "        google.colab.notebook.generateWithVariable('train_df');\n",
              "      }\n",
              "      })();\n",
              "    </script>\n",
              "  </div>\n",
              "\n",
              "    </div>\n",
              "  </div>\n"
            ],
            "application/vnd.google.colaboratory.intrinsic+json": {
              "type": "dataframe",
              "variable_name": "train_df"
            }
          },
          "metadata": {},
          "execution_count": 87
        }
      ]
    },
    {
      "cell_type": "code",
      "source": [
        "##label sequence optimization layer\n",
        "#ANY ENGINEER FEATURE SHOULD BE AVAILABLE AT RUNTIME\n",
        "\n",
        "#input =seq of probability vectors from label predictionlayer\n",
        "#outputs= seq of labels assigned to a token\n",
        "df=pd.DataFrame(train_df[\"target\"],train_df[\"line_number\"])\n",
        "df_2=df.groupby(\"target\").get_group(\"OBJECTIVE\")\n",
        "print(df_2)"
      ],
      "metadata": {
        "colab": {
          "base_uri": "https://localhost:8080/"
        },
        "id": "jdVWcudgspi_",
        "outputId": "319cb77e-c435-4e38-d3f3-9460e1d0e0ae"
      },
      "execution_count": 88,
      "outputs": [
        {
          "output_type": "stream",
          "name": "stdout",
          "text": [
            "                target\n",
            "line_number           \n",
            "0            OBJECTIVE\n",
            "0            OBJECTIVE\n",
            "0            OBJECTIVE\n",
            "14           OBJECTIVE\n",
            "0            OBJECTIVE\n",
            "...                ...\n",
            "0            OBJECTIVE\n",
            "0            OBJECTIVE\n",
            "0            OBJECTIVE\n",
            "0            OBJECTIVE\n",
            "0            OBJECTIVE\n",
            "\n",
            "[19696 rows x 1 columns]\n"
          ]
        }
      ]
    },
    {
      "cell_type": "code",
      "source": [
        "#ANY ENGINEER FEATURE SHOULD BE AVAILABLE AT RUNTIME\n",
        "train_df[\"line_number\"].value_counts()"
      ],
      "metadata": {
        "colab": {
          "base_uri": "https://localhost:8080/"
        },
        "id": "cSu7rH1FvOkc",
        "outputId": "c7965f0d-4b48-4695-a691-2a25021063c8"
      },
      "execution_count": 89,
      "outputs": [
        {
          "output_type": "execute_result",
          "data": {
            "text/plain": [
              "line_number\n",
              "0     15000\n",
              "1     15000\n",
              "2     15000\n",
              "3     15000\n",
              "4     14992\n",
              "5     14949\n",
              "6     14758\n",
              "7     14279\n",
              "8     13346\n",
              "9     11981\n",
              "10    10041\n",
              "11     7892\n",
              "12     5853\n",
              "13     4152\n",
              "14     2835\n",
              "15     1861\n",
              "16     1188\n",
              "17      751\n",
              "18      462\n",
              "19      286\n",
              "20      162\n",
              "21      101\n",
              "22       66\n",
              "23       33\n",
              "24       22\n",
              "25       14\n",
              "26        7\n",
              "27        4\n",
              "28        3\n",
              "29        1\n",
              "30        1\n",
              "Name: count, dtype: int64"
            ]
          },
          "metadata": {},
          "execution_count": 89
        }
      ]
    },
    {
      "cell_type": "code",
      "source": [
        "#check distribution\n",
        "train_df.line_number.plot(kind=\"hist\");"
      ],
      "metadata": {
        "colab": {
          "base_uri": "https://localhost:8080/",
          "height": 430
        },
        "id": "gcFj8b2z5Mc7",
        "outputId": "6a3443e6-026b-4523-b060-f70d2c631e82"
      },
      "execution_count": 90,
      "outputs": [
        {
          "output_type": "display_data",
          "data": {
            "text/plain": [
              "<Figure size 640x480 with 1 Axes>"
            ],
            "image/png": "[encoded data removed]"
          },
          "metadata": {}
        }
      ]
    },
    {
      "cell_type": "code",
      "source": [
        "#one hot encoded\n",
        "train_line_numbers_one_hot=tf.one_hot(train_df[\"line_number\"].to_numpy(),depth=15)\n",
        "val_line_numbers_one_hot=tf.one_hot(val_df[\"line_number\"].to_numpy(),depth=15)\n",
        "test_line_numbers_one_hot=tf.one_hot(test_df[\"line_number\"].to_numpy(),depth=15)\n",
        "train_line_numbers_one_hot[:10]\n"
      ],
      "metadata": {
        "colab": {
          "base_uri": "https://localhost:8080/"
        },
        "id": "GDppTrbz5ZhI",
        "outputId": "fc79542b-73c5-4ddc-868e-1bf91b55b53e"
      },
      "execution_count": 91,
      "outputs": [
        {
          "output_type": "execute_result",
          "data": {
            "text/plain": [
              "<tf.Tensor: shape=(10, 15), dtype=float32, numpy=\n",
              "array([[1., 0., 0., 0., 0., 0., 0., 0., 0., 0., 0., 0., 0., 0., 0.],\n",
              "       [0., 1., 0., 0., 0., 0., 0., 0., 0., 0., 0., 0., 0., 0., 0.],\n",
              "       [0., 0., 1., 0., 0., 0., 0., 0., 0., 0., 0., 0., 0., 0., 0.],\n",
              "       [0., 0., 0., 1., 0., 0., 0., 0., 0., 0., 0., 0., 0., 0., 0.],\n",
              "       [0., 0., 0., 0., 1., 0., 0., 0., 0., 0., 0., 0., 0., 0., 0.],\n",
              "       [0., 0., 0., 0., 0., 1., 0., 0., 0., 0., 0., 0., 0., 0., 0.],\n",
              "       [0., 0., 0., 0., 0., 0., 1., 0., 0., 0., 0., 0., 0., 0., 0.],\n",
              "       [0., 0., 0., 0., 0., 0., 0., 1., 0., 0., 0., 0., 0., 0., 0.],\n",
              "       [0., 0., 0., 0., 0., 0., 0., 0., 1., 0., 0., 0., 0., 0., 0.],\n",
              "       [0., 0., 0., 0., 0., 0., 0., 0., 0., 1., 0., 0., 0., 0., 0.]],\n",
              "      dtype=float32)>"
            ]
          },
          "metadata": {},
          "execution_count": 91
        }
      ]
    },
    {
      "cell_type": "code",
      "source": [
        "line_no_percentile=np.percentile(train_df[\"line_number\"],95)\n",
        "print(line_no_percentile)\n"
      ],
      "metadata": {
        "colab": {
          "base_uri": "https://localhost:8080/"
        },
        "id": "2i3Zp9D7AGaS",
        "outputId": "71b2e2f7-0bc3-485c-82aa-5f3daec06d84"
      },
      "execution_count": 92,
      "outputs": [
        {
          "output_type": "stream",
          "name": "stdout",
          "text": [
            "13.0\n"
          ]
        }
      ]
    },
    {
      "cell_type": "code",
      "source": [
        "train_df[\"total_lines\"].value_counts()"
      ],
      "metadata": {
        "colab": {
          "base_uri": "https://localhost:8080/"
        },
        "id": "cTRHXXc05umv",
        "outputId": "03fba3f1-bb84-48f8-d202-51f0ac1b3e13"
      },
      "execution_count": 93,
      "outputs": [
        {
          "output_type": "execute_result",
          "data": {
            "text/plain": [
              "total_lines\n",
              "12    24468\n",
              "11    23639\n",
              "13    22113\n",
              "10    19400\n",
              "14    18438\n",
              "15    14610\n",
              "9     12285\n",
              "16    10768\n",
              "8      7464\n",
              "17     7429\n",
              "18     5202\n",
              "7      3353\n",
              "19     3344\n",
              "20     2480\n",
              "21     1281\n",
              "6      1146\n",
              "22      770\n",
              "23      759\n",
              "24      264\n",
              "5       215\n",
              "25      200\n",
              "26      182\n",
              "27       81\n",
              "29       58\n",
              "4        32\n",
              "31       31\n",
              "28       28\n",
              "Name: count, dtype: int64"
            ]
          },
          "metadata": {},
          "execution_count": 93
        }
      ]
    },
    {
      "cell_type": "code",
      "source": [
        "no=np.percentile(train_df[\"total_lines\"],95)\n",
        "print(no)\n",
        "train_df.total_lines.plot(kind=\"hist\")"
      ],
      "metadata": {
        "colab": {
          "base_uri": "https://localhost:8080/",
          "height": 466
        },
        "id": "iBn9Rwcc6Li0",
        "outputId": "83bb5d5a-d89b-4655-bf4c-561774548f77"
      },
      "execution_count": 94,
      "outputs": [
        {
          "output_type": "stream",
          "name": "stdout",
          "text": [
            "19.0\n"
          ]
        },
        {
          "output_type": "execute_result",
          "data": {
            "text/plain": [
              "<Axes: ylabel='Frequency'>"
            ]
          },
          "metadata": {},
          "execution_count": 94
        },
        {
          "output_type": "display_data",
          "data": {
            "text/plain": [
              "<Figure size 640x480 with 1 Axes>"
            ],
            "image/png": "[encoded data removed]"
          },
          "metadata": {}
        }
      ]
    },
    {
      "cell_type": "code",
      "source": [
        "total_line_percentile=np.percentile(train_df[\"total_lines\"],97)\n",
        "total_line_percentile"
      ],
      "metadata": {
        "colab": {
          "base_uri": "https://localhost:8080/"
        },
        "id": "Z4Kl6Ylo6Zwb",
        "outputId": "217c71e9-020c-400e-fb1d-74f422817982"
      },
      "execution_count": 95,
      "outputs": [
        {
          "output_type": "execute_result",
          "data": {
            "text/plain": [
              "20.0"
            ]
          },
          "metadata": {},
          "execution_count": 95
        }
      ]
    },
    {
      "cell_type": "code",
      "source": [
        "train_total_lines=tf.one_hot(train_df[\"total_lines\"].to_numpy(),depth=total_line_percentile)\n",
        "val_total_lines=tf.one_hot(val_df[\"total_lines\"].to_numpy(),depth=total_line_percentile)\n",
        "test_total_lines=tf.one_hot(test_df[\"total_lines\"].to_numpy(),depth=total_line_percentile)\n"
      ],
      "metadata": {
        "id": "XPDXwywQ-Rws"
      },
      "execution_count": 96,
      "outputs": []
    },
    {
      "cell_type": "code",
      "source": [
        "train_line_numbers_one_hot[0].shape\n"
      ],
      "metadata": {
        "colab": {
          "base_uri": "https://localhost:8080/"
        },
        "id": "cASqAjLwbqZR",
        "outputId": "ec0d818b-5884-4ccd-ae72-a8b4cb230b7d"
      },
      "execution_count": 97,
      "outputs": [
        {
          "output_type": "execute_result",
          "data": {
            "text/plain": [
              "TensorShape([15])"
            ]
          },
          "metadata": {},
          "execution_count": 97
        }
      ]
    },
    {
      "cell_type": "code",
      "source": [
        "train_total_lines[0].shape"
      ],
      "metadata": {
        "colab": {
          "base_uri": "https://localhost:8080/"
        },
        "id": "vMEuoLaBdIsv",
        "outputId": "c5384704-c871-4cd7-bfeb-7f85848fe228"
      },
      "execution_count": 98,
      "outputs": [
        {
          "output_type": "execute_result",
          "data": {
            "text/plain": [
              "TensorShape([20])"
            ]
          },
          "metadata": {},
          "execution_count": 98
        }
      ]
    },
    {
      "cell_type": "code",
      "source": [
        "###Building a tribrid model\n",
        "token_input=layers.Input(shape=(),dtype=tf.string,name=\"token_input\")\n",
        "token_embeddings=use_embedding(token_input)\n",
        "token_output=layers.Dense(128,activation=\"softmax\")(token_embeddings)\n",
        "token_model=tf.keras.Model(inputs=token_input,outputs=token_output)\n",
        "\n",
        "#char model\n",
        "char_input=layers.Input(shape=(1,),dtype=tf.string,name=\"char_input\")\n",
        "char_vectors=char_vectorizer(char_input)\n",
        "char_embeddings=char_embed(char_vectors)\n",
        "#bi directional lstm\n",
        "char_output=layers.Bidirectional(layers.LSTM(32,activation=\"softmax\"))(char_embeddings)\n",
        "char_model=tf.keras.Model(inputs=char_input,outputs=char_output)\n",
        "\n",
        "#positional embedding\n",
        "line_number_input=layers.Input(shape=(15,),dtype=tf.int32,name=\"line_number_input\")\n",
        "#line_number_embeddings=layers.Embedding(input_dim=15,output_dim=128)(line_number_input)\n",
        "line_number_output=tf.keras.layers.Dense(32,activation=\"relu\")(line_number_input)\n",
        "line_number_model=tf.keras.Model(inputs=line_number_input,outputs=line_number_output)\n",
        "\n",
        "#total_lines\n",
        "total_lines_input=layers.Input(shape=train_total_lines[0].shape,dtype=tf.int32,name=\"total_lines_input\")\n",
        "total_embeddings=layers.Dense(32,activation=\"relu\")(total_lines_input)\n",
        "total_line_model=tf.keras.Model(inputs=total_lines_input,outputs=total_embeddings)\n",
        "\n",
        "#combine token and char embeddings\n",
        "combined_embeddings=layers.Concatenate(name=\"concatenate\",axis=1)([token_model.output,char_model.output])\n",
        "\n",
        "z=layers.Dense(256,activation=\"relu\")(combined_embeddings)\n",
        "z=layers.Dropout(0.5)(z)\n",
        "output_layer=layers.Dense(num_classes,activation=\"softmax\")(z)\n",
        "\n",
        "#TRIBRID EMBEDDINGS\n",
        "tribrid_embeddings=layers.Concatenate(name=\"tribrid_embeddings\")([line_number_model.output,total_line_model.output,z])\n",
        "#create output layer\n",
        "output_layer=layers.Dense(5,activation=\"softmax\")(tribrid_embeddings)"
      ],
      "metadata": {
        "id": "VSfgMvziBMFZ"
      },
      "execution_count": 136,
      "outputs": []
    },
    {
      "cell_type": "code",
      "source": [
        "num_classes"
      ],
      "metadata": {
        "colab": {
          "base_uri": "https://localhost:8080/"
        },
        "id": "xPKEVSy4j_gV",
        "outputId": "a46c359f-3c66-4422-e824-278d535c3a6e"
      },
      "execution_count": 137,
      "outputs": [
        {
          "output_type": "execute_result",
          "data": {
            "text/plain": [
              "5"
            ]
          },
          "metadata": {},
          "execution_count": 137
        }
      ]
    },
    {
      "cell_type": "markdown",
      "source": [],
      "metadata": {
        "id": "LFwWZibPfr6L"
      }
    },
    {
      "cell_type": "code",
      "source": [
        "model_5=tf.keras.Model(inputs=[line_number_model.input,total_line_model.input,token_model.input,char_model.input],outputs=output_layer)"
      ],
      "metadata": {
        "id": "IU2QrBfSDpPb"
      },
      "execution_count": 144,
      "outputs": []
    },
    {
      "cell_type": "code",
      "source": [
        "from keras.utils import plot_model\n",
        "plot_model(model_5,show_shapes=True)"
      ],
      "metadata": {
        "colab": {
          "base_uri": "https://localhost:8080/",
          "height": 678
        },
        "id": "_FB4ePjHrAVB",
        "outputId": "d1f83a4c-8457-43b3-a969-9059adf3e170"
      },
      "execution_count": 139,
      "outputs": [
        {
          "output_type": "execute_result",
          "data": {
            "image/png": "[encoded data removed]",
            "text/plain": [
              "<IPython.core.display.Image object>"
            ]
          },
          "metadata": {},
          "execution_count": 139
        }
      ]
    },
    {
      "cell_type": "markdown",
      "source": [
        "What is label smoothing ?\n",
        "\n",
        "if our model gets stuck on  a class it may get stuck on that class and not consider other classes"
      ],
      "metadata": {
        "id": "T_VusfglsFMT"
      }
    },
    {
      "cell_type": "code",
      "source": [
        "model_5.compile(loss=tf.keras.losses.CategoricalCrossentropy(label_smoothing=0.2),optimizer=tf.keras.optimizers.Adam(),metrics=[\"accuracy\"])"
      ],
      "metadata": {
        "id": "5_ee-wvPsWQD"
      },
      "execution_count": 148,
      "outputs": []
    },
    {
      "cell_type": "code",
      "source": [
        "train_labels_encoded.shape"
      ],
      "metadata": {
        "colab": {
          "base_uri": "https://localhost:8080/"
        },
        "id": "YqstM9gCof6K",
        "outputId": "13a0e9d5-d381-44e2-f77f-89514a15a1e3"
      },
      "execution_count": 160,
      "outputs": [
        {
          "output_type": "execute_result",
          "data": {
            "text/plain": [
              "(180040,)"
            ]
          },
          "metadata": {},
          "execution_count": 160
        }
      ]
    },
    {
      "cell_type": "code",
      "source": [
        "# Create training and validation datasets (all four kinds of inputs)\n",
        "train_pos_char_token_data = tf.data.Dataset.from_tensor_slices((train_line_numbers_one_hot, # line numbers\n",
        "                                                                train_total_lines, # total lines\n",
        "                                                                train_sentences, # train tokens\n",
        "                                                                train_chars)) # train chars\n",
        "train_pos_char_token_labels = tf.data.Dataset.from_tensor_slices(train_labels_one_hot) # train labels\n",
        "train_pos_char_token_dataset = tf.data.Dataset.zip((train_pos_char_token_data, train_pos_char_token_labels)) # combine data and labels\n",
        "train_pos_char_token_dataset = train_pos_char_token_dataset.batch(32) #prefetch(tf.data.AUTOTUNE) # turn into batches and prefetch appropriately\n",
        "\n",
        "# Validation dataset\n",
        "val_pos_char_token_data = tf.data.Dataset.from_tensor_slices((val_line_numbers_one_hot,\n",
        "                                                              val_total_lines,\n",
        "                                                              val_sentences,\n",
        "                                                              val_chars))\n",
        "val_pos_char_token_labels = tf.data.Dataset.from_tensor_slices(val_labels_one_hot)\n",
        "val_pos_char_token_dataset = tf.data.Dataset.zip((val_pos_char_token_data, val_pos_char_token_labels))\n",
        "val_pos_char_token_dataset = val_pos_char_token_dataset.batch(32) #prefetch(tf.data.AUTOTUNE) # turn into batches and prefetch appropriately\n",
        "\n",
        "# Check input shapes\n",
        "train_pos_char_token_dataset, val_pos_char_token_dataset"
      ],
      "metadata": {
        "colab": {
          "base_uri": "https://localhost:8080/"
        },
        "id": "1i4Buf4ntJrN",
        "outputId": "7124db39-cb9a-468a-8c05-ab55edd7798b"
      },
      "execution_count": 178,
      "outputs": [
        {
          "output_type": "execute_result",
          "data": {
            "text/plain": [
              "(<_BatchDataset element_spec=((TensorSpec(shape=(None, 15), dtype=tf.float32, name=None), TensorSpec(shape=(None, 20), dtype=tf.float32, name=None), TensorSpec(shape=(None,), dtype=tf.string, name=None), TensorSpec(shape=(None,), dtype=tf.string, name=None)), TensorSpec(shape=(None, 5), dtype=tf.float32, name=None))>,\n",
              " <_BatchDataset element_spec=((TensorSpec(shape=(None, 15), dtype=tf.float32, name=None), TensorSpec(shape=(None, 20), dtype=tf.float32, name=None), TensorSpec(shape=(None,), dtype=tf.string, name=None), TensorSpec(shape=(None,), dtype=tf.string, name=None)), TensorSpec(shape=(None, 5), dtype=tf.float32, name=None))>)"
            ]
          },
          "metadata": {},
          "execution_count": 178
        }
      ]
    },
    {
      "cell_type": "markdown",
      "source": [
        "Creating tribrid data"
      ],
      "metadata": {
        "id": "rw40Lmsovn8Y"
      }
    },
    {
      "cell_type": "code",
      "source": [
        "model_5_history=model_5.fit(train_pos_char_token_dataset,steps_per_epoch=int(0.1*len(train_pos_char_token_dataset)),validation_data=val_pos_char_token_dataset ,validation_steps=int(0.1*len(val_pos_char_token_dataset )),epochs=3)"
      ],
      "metadata": {
        "colab": {
          "base_uri": "https://localhost:8080/"
        },
        "id": "YoBRfBK1xFui",
        "outputId": "e9d4789b-54a7-4922-fbe9-1747aea35b73"
      },
      "execution_count": 208,
      "outputs": [
        {
          "output_type": "stream",
          "name": "stdout",
          "text": [
            "Epoch 1/3\n",
            "562/562 [==============================] - 219s 389ms/step - loss: 0.9891 - accuracy: 0.7941 - val_loss: 0.9794 - val_accuracy: 0.7992\n",
            "Epoch 2/3\n",
            "562/562 [==============================] - 214s 380ms/step - loss: 0.9785 - accuracy: 0.8010 - val_loss: 0.9630 - val_accuracy: 0.8148\n",
            "Epoch 3/3\n",
            "562/562 [==============================] - 218s 387ms/step - loss: 0.9723 - accuracy: 0.8038 - val_loss: 0.9623 - val_accuracy: 0.8135\n"
          ]
        }
      ]
    },
    {
      "cell_type": "code",
      "source": [
        "model_5_pred_probs=model_5.predict(val_pos_char_token_dataset,verbose=1)\n",
        "model_5_pred_probs"
      ],
      "metadata": {
        "colab": {
          "base_uri": "https://localhost:8080/"
        },
        "id": "i-VkOhJZAgQD",
        "outputId": "ba705d84-1346-481a-c34f-a0c275e22ff2"
      },
      "execution_count": 186,
      "outputs": [
        {
          "output_type": "stream",
          "name": "stdout",
          "text": [
            "945/945 [==============================] - 92s 97ms/step\n"
          ]
        },
        {
          "output_type": "execute_result",
          "data": {
            "text/plain": [
              "array([[0.4308234 , 0.07971381, 0.01410044, 0.4572901 , 0.01807227],\n",
              "       [0.49046576, 0.10813565, 0.07579283, 0.30890352, 0.01670219],\n",
              "       [0.3633013 , 0.15420447, 0.15147674, 0.2854011 , 0.04561639],\n",
              "       ...,\n",
              "       [0.04763025, 0.11963461, 0.09518912, 0.02964095, 0.7079051 ],\n",
              "       [0.07618686, 0.18644948, 0.20764811, 0.03318834, 0.49652728],\n",
              "       [0.19949478, 0.36535662, 0.25443578, 0.0557222 , 0.12499066]],\n",
              "      dtype=float32)"
            ]
          },
          "metadata": {},
          "execution_count": 186
        }
      ]
    },
    {
      "cell_type": "code",
      "source": [
        "model_5_preds=tf.argmax(model_5_pred_probs,axis=1)"
      ],
      "metadata": {
        "id": "iYi9mK_-yKd5"
      },
      "execution_count": 188,
      "outputs": []
    },
    {
      "cell_type": "code",
      "source": [
        "model_5_results=calculate_results(y_true=val_labels_encoded,y_pred=model_5_preds)\n",
        "model_5_results"
      ],
      "metadata": {
        "colab": {
          "base_uri": "https://localhost:8080/"
        },
        "id": "xi1MrbHdyP5c",
        "outputId": "888ffd1c-4a80-4566-f50b-2ef5b58407c2"
      },
      "execution_count": 190,
      "outputs": [
        {
          "output_type": "execute_result",
          "data": {
            "text/plain": [
              "{'accuracy': 76.75095988349,\n",
              " 'precision': 0.7678757915897407,\n",
              " 'recall': 0.7675095988349,\n",
              " 'f1': 0.7612497417068613}"
            ]
          },
          "metadata": {},
          "execution_count": 190
        }
      ]
    },
    {
      "cell_type": "code",
      "source": [
        "all_model_results=pd.DataFrame({\"base_line\":baseline_results,\"model_1\":model_1_results,\"model_2\":model_2_results,\"model_3\":model_3_results,\"model_4\":model_4_results,\"model_5\":model_5_results})\n",
        "all_model_results=all_model_results.transpose()\n",
        "all_model_results[\"accuracy\"]=all_model_results[\"accuracy\"]/100\n"
      ],
      "metadata": {
        "id": "DYKnNeBWylkG"
      },
      "execution_count": 216,
      "outputs": []
    },
    {
      "cell_type": "code",
      "source": [
        "all_model_results.plot(kind=\"bar\",fig=(10,7)).legend(bbox_to_anchor=(1.0,1.0))"
      ],
      "metadata": {
        "colab": {
          "base_uri": "https://localhost:8080/",
          "height": 498
        },
        "id": "-Y-N9G-RzCMc",
        "outputId": "f5528754-e087-44fd-fb18-c4c929a14c8e"
      },
      "execution_count": 218,
      "outputs": [
        {
          "output_type": "execute_result",
          "data": {
            "text/plain": [
              "<matplotlib.legend.Legend at 0x79cc5d80b9a0>"
            ]
          },
          "metadata": {},
          "execution_count": 218
        },
        {
          "output_type": "display_data",
          "data": {
            "text/plain": [
              "<Figure size 640x480 with 1 Axes>"
            ],
            "image/png": "[encoded data removed]"
          },
          "metadata": {}
        }
      ]
    },
    {
      "cell_type": "code",
      "source": [
        "all_model_results.sort_values(\"f1\", ascending=False)[\"f1\"].plot(kind=\"bar\", figsize=(10, 7));"
      ],
      "metadata": {
        "colab": {
          "base_uri": "https://localhost:8080/",
          "height": 650
        },
        "id": "XQgk4TjuD_kk",
        "outputId": "dc0ed92d-3dad-4477-d72f-0abc75517e6c"
      },
      "execution_count": 219,
      "outputs": [
        {
          "output_type": "display_data",
          "data": {
            "text/plain": [
              "<Figure size 1000x700 with 1 Axes>"
            ],
            "image/png": "[encoded data removed]"
          },
          "metadata": {}
        }
      ]
    },
    {
      "cell_type": "code",
      "source": [
        "test_pos_char_token_data = tf.data.Dataset.from_tensor_slices((test_line_numbers_one_hot,\n",
        "                                                               test_total_lines,\n",
        "                                                               test_sentences,\n",
        "                                                               test_chars))\n",
        "print(f\"{len(test_pos_char_token_data)}\")\n",
        "test_pos_char_token_labels = tf.data.Dataset.from_tensor_slices(test_labels_encoded)\n",
        "print(f\"{len(test_labels_one_hot)}\")\n",
        "\n",
        "print(f\"{len(test_pos_char_token_labels)}\")\n",
        "test_pos_char_token_dataset = tf.data.Dataset.zip((test_pos_char_token_data, test_pos_char_token_labels))\n",
        "test_pos_char_token_dataset = test_pos_char_token_dataset.batch(32)#.prefetch(tf.AUTOTUNE)\n",
        "\n",
        "# Check shapes\n",
        "test_pos_char_token_dataset"
      ],
      "metadata": {
        "colab": {
          "base_uri": "https://localhost:8080/"
        },
        "id": "dDWqIe_gESA0",
        "outputId": "2e3d21a0-5da6-4a25-9562-d310f2c82807"
      },
      "execution_count": 253,
      "outputs": [
        {
          "output_type": "stream",
          "name": "stdout",
          "text": [
            "30135\n",
            "1\n",
            "30135\n"
          ]
        },
        {
          "output_type": "execute_result",
          "data": {
            "text/plain": [
              "<_BatchDataset element_spec=((TensorSpec(shape=(None, 15), dtype=tf.float32, name=None), TensorSpec(shape=(None, 20), dtype=tf.float32, name=None), TensorSpec(shape=(None,), dtype=tf.string, name=None), TensorSpec(shape=(None,), dtype=tf.string, name=None)), TensorSpec(shape=(None,), dtype=tf.int64, name=None))>"
            ]
          },
          "metadata": {},
          "execution_count": 253
        }
      ]
    },
    {
      "cell_type": "code",
      "source": [
        "len(test_pos_char_token_dataset)"
      ],
      "metadata": {
        "colab": {
          "base_uri": "https://localhost:8080/"
        },
        "id": "X_0ryvqcFRDD",
        "outputId": "1ee79a1d-0428-4dbc-edc6-87f2ac3e3bd0"
      },
      "execution_count": 254,
      "outputs": [
        {
          "output_type": "execute_result",
          "data": {
            "text/plain": [
              "942"
            ]
          },
          "metadata": {},
          "execution_count": 254
        }
      ]
    },
    {
      "cell_type": "code",
      "source": [
        "test_pred_probs=model_5.predict(test_pos_char_token_dataset,verbose=1)\n",
        "test_preds=tf.argmax(test_pred_probs,axis=1)\n",
        "test_preds[:10]"
      ],
      "metadata": {
        "colab": {
          "base_uri": "https://localhost:8080/"
        },
        "id": "1aDcLlL1Ebds",
        "outputId": "f88827ec-f9e0-462b-a946-2f858ed0215e"
      },
      "execution_count": 255,
      "outputs": [
        {
          "output_type": "stream",
          "name": "stdout",
          "text": [
            "942/942 [==============================] - 82s 86ms/step\n"
          ]
        },
        {
          "output_type": "execute_result",
          "data": {
            "text/plain": [
              "<tf.Tensor: shape=(10,), dtype=int64, numpy=array([3, 3, 2, 2, 4, 4, 4, 1, 4, 3])>"
            ]
          },
          "metadata": {},
          "execution_count": 255
        }
      ]
    },
    {
      "cell_type": "code",
      "source": [
        "results=calculate_results(y_true=test_labels_encoded,y_pred=test_preds)\n",
        "results"
      ],
      "metadata": {
        "colab": {
          "base_uri": "https://localhost:8080/"
        },
        "id": "W4PU1v4BEm4G",
        "outputId": "2983756d-9e3d-47e9-d063-d9cde684c9df"
      },
      "execution_count": 257,
      "outputs": [
        {
          "output_type": "execute_result",
          "data": {
            "text/plain": [
              "{'accuracy': 80.70350091256014,\n",
              " 'precision': 0.8079714191058234,\n",
              " 'recall': 0.8070350091256014,\n",
              " 'f1': 0.8059008579297962}"
            ]
          },
          "metadata": {},
          "execution_count": 257
        }
      ]
    },
    {
      "cell_type": "code",
      "source": [],
      "metadata": {
        "id": "c6iZJY9eE0aR"
      },
      "execution_count": null,
      "outputs": []
    }
  ]
}